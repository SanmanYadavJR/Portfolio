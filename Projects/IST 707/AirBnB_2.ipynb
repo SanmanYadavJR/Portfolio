{
  "nbformat": 4,
  "nbformat_minor": 0,
  "metadata": {
    "colab": {
      "name": "AirBnB_2.ipynb",
      "provenance": [],
      "collapsed_sections": []
    },
    "kernelspec": {
      "name": "python3",
      "display_name": "Python 3"
    }
  },
  "cells": [
    {
      "cell_type": "code",
      "metadata": {
        "id": "CIpiUIfa-QaC",
        "colab_type": "code",
        "outputId": "af66f3ec-cd1e-4dfc-e076-539857c1761d",
        "colab": {
          "base_uri": "https://localhost:8080/",
          "height": 338
        }
      },
      "source": [
        "from IPython.display import Image\n",
        "from IPython.core.display import HTML\n",
        "Image(url= \"https://fortunedotcom.files.wordpress.com/2014/07/new-logos-airbnb.jpg\")"
      ],
      "execution_count": 0,
      "outputs": [
        {
          "output_type": "execute_result",
          "data": {
            "text/html": [
              "<img src=\"https://fortunedotcom.files.wordpress.com/2014/07/new-logos-airbnb.jpg\"/>"
            ],
            "text/plain": [
              "<IPython.core.display.Image object>"
            ]
          },
          "metadata": {
            "tags": []
          },
          "execution_count": 2
        }
      ]
    },
    {
      "cell_type": "code",
      "metadata": {
        "id": "t3Dh0azt-fgV",
        "colab_type": "code",
        "colab": {}
      },
      "source": [
        "import pandas as pd\n",
        "from sklearn.model_selection import cross_val_score\n",
        "from sklearn.metrics import mean_squared_error, make_scorer\n",
        "from sklearn.linear_model import LinearRegression\n",
        "from sklearn import linear_model\n",
        "import seaborn as sns\n",
        "import statsmodels.api as sm\n",
        "import statsmodels as statm\n",
        "from statsmodels.formula.api import ols\n",
        "from sklearn.linear_model import LinearRegression\n",
        "import matplotlib.pyplot as plt\n",
        "import seaborn as sns\n",
        "import numpy as np\n",
        "from plotnine import *"
      ],
      "execution_count": 0,
      "outputs": []
    },
    {
      "cell_type": "code",
      "metadata": {
        "id": "YJej7z29-yBU",
        "colab_type": "code",
        "colab": {}
      },
      "source": [
        "filedata = pd.read_csv(\"train.csv\")"
      ],
      "execution_count": 0,
      "outputs": []
    },
    {
      "cell_type": "code",
      "metadata": {
        "id": "f5XIwt86_XMu",
        "colab_type": "code",
        "outputId": "3fc4f8a9-5f7a-4282-dccf-30595b5614df",
        "colab": {
          "base_uri": "https://localhost:8080/",
          "height": 564
        }
      },
      "source": [
        "#EDA\n",
        "filedata.head(5)"
      ],
      "execution_count": 0,
      "outputs": [
        {
          "output_type": "execute_result",
          "data": {
            "text/html": [
              "<div>\n",
              "<style scoped>\n",
              "    .dataframe tbody tr th:only-of-type {\n",
              "        vertical-align: middle;\n",
              "    }\n",
              "\n",
              "    .dataframe tbody tr th {\n",
              "        vertical-align: top;\n",
              "    }\n",
              "\n",
              "    .dataframe thead th {\n",
              "        text-align: right;\n",
              "    }\n",
              "</style>\n",
              "<table border=\"1\" class=\"dataframe\">\n",
              "  <thead>\n",
              "    <tr style=\"text-align: right;\">\n",
              "      <th></th>\n",
              "      <th>id</th>\n",
              "      <th>log_price</th>\n",
              "      <th>property_type</th>\n",
              "      <th>room_type</th>\n",
              "      <th>amenities</th>\n",
              "      <th>accommodates</th>\n",
              "      <th>bathrooms</th>\n",
              "      <th>bed_type</th>\n",
              "      <th>cancellation_policy</th>\n",
              "      <th>cleaning_fee</th>\n",
              "      <th>city</th>\n",
              "      <th>description</th>\n",
              "      <th>first_review</th>\n",
              "      <th>host_has_profile_pic</th>\n",
              "      <th>host_identity_verified</th>\n",
              "      <th>host_response_rate</th>\n",
              "      <th>host_since</th>\n",
              "      <th>instant_bookable</th>\n",
              "      <th>last_review</th>\n",
              "      <th>latitude</th>\n",
              "      <th>longitude</th>\n",
              "      <th>name</th>\n",
              "      <th>neighbourhood</th>\n",
              "      <th>number_of_reviews</th>\n",
              "      <th>review_scores_rating</th>\n",
              "      <th>thumbnail_url</th>\n",
              "      <th>zipcode</th>\n",
              "      <th>bedrooms</th>\n",
              "      <th>beds</th>\n",
              "    </tr>\n",
              "  </thead>\n",
              "  <tbody>\n",
              "    <tr>\n",
              "      <th>0</th>\n",
              "      <td>6901257</td>\n",
              "      <td>5.010635</td>\n",
              "      <td>Apartment</td>\n",
              "      <td>Entire home/apt</td>\n",
              "      <td>{\"Wireless Internet\",\"Air conditioning\",Kitche...</td>\n",
              "      <td>3</td>\n",
              "      <td>1.0</td>\n",
              "      <td>Real Bed</td>\n",
              "      <td>strict</td>\n",
              "      <td>True</td>\n",
              "      <td>NYC</td>\n",
              "      <td>Beautiful, sunlit brownstone 1-bedroom in the ...</td>\n",
              "      <td>2016-06-18</td>\n",
              "      <td>t</td>\n",
              "      <td>t</td>\n",
              "      <td>NaN</td>\n",
              "      <td>2012-03-26</td>\n",
              "      <td>f</td>\n",
              "      <td>2016-07-18</td>\n",
              "      <td>40.696524</td>\n",
              "      <td>-73.991617</td>\n",
              "      <td>Beautiful brownstone 1-bedroom</td>\n",
              "      <td>Brooklyn Heights</td>\n",
              "      <td>2</td>\n",
              "      <td>100.0</td>\n",
              "      <td>https://a0.muscache.com/im/pictures/6d7cbbf7-c...</td>\n",
              "      <td>11201</td>\n",
              "      <td>1.0</td>\n",
              "      <td>1.0</td>\n",
              "    </tr>\n",
              "    <tr>\n",
              "      <th>1</th>\n",
              "      <td>6304928</td>\n",
              "      <td>5.129899</td>\n",
              "      <td>Apartment</td>\n",
              "      <td>Entire home/apt</td>\n",
              "      <td>{\"Wireless Internet\",\"Air conditioning\",Kitche...</td>\n",
              "      <td>7</td>\n",
              "      <td>1.0</td>\n",
              "      <td>Real Bed</td>\n",
              "      <td>strict</td>\n",
              "      <td>True</td>\n",
              "      <td>NYC</td>\n",
              "      <td>Enjoy travelling during your stay in Manhattan...</td>\n",
              "      <td>2017-08-05</td>\n",
              "      <td>t</td>\n",
              "      <td>f</td>\n",
              "      <td>100%</td>\n",
              "      <td>2017-06-19</td>\n",
              "      <td>t</td>\n",
              "      <td>2017-09-23</td>\n",
              "      <td>40.766115</td>\n",
              "      <td>-73.989040</td>\n",
              "      <td>Superb 3BR Apt Located Near Times Square</td>\n",
              "      <td>Hell's Kitchen</td>\n",
              "      <td>6</td>\n",
              "      <td>93.0</td>\n",
              "      <td>https://a0.muscache.com/im/pictures/348a55fe-4...</td>\n",
              "      <td>10019</td>\n",
              "      <td>3.0</td>\n",
              "      <td>3.0</td>\n",
              "    </tr>\n",
              "    <tr>\n",
              "      <th>2</th>\n",
              "      <td>7919400</td>\n",
              "      <td>4.976734</td>\n",
              "      <td>Apartment</td>\n",
              "      <td>Entire home/apt</td>\n",
              "      <td>{TV,\"Cable TV\",\"Wireless Internet\",\"Air condit...</td>\n",
              "      <td>5</td>\n",
              "      <td>1.0</td>\n",
              "      <td>Real Bed</td>\n",
              "      <td>moderate</td>\n",
              "      <td>True</td>\n",
              "      <td>NYC</td>\n",
              "      <td>The Oasis comes complete with a full backyard ...</td>\n",
              "      <td>2017-04-30</td>\n",
              "      <td>t</td>\n",
              "      <td>t</td>\n",
              "      <td>100%</td>\n",
              "      <td>2016-10-25</td>\n",
              "      <td>t</td>\n",
              "      <td>2017-09-14</td>\n",
              "      <td>40.808110</td>\n",
              "      <td>-73.943756</td>\n",
              "      <td>The Garden Oasis</td>\n",
              "      <td>Harlem</td>\n",
              "      <td>10</td>\n",
              "      <td>92.0</td>\n",
              "      <td>https://a0.muscache.com/im/pictures/6fae5362-9...</td>\n",
              "      <td>10027</td>\n",
              "      <td>1.0</td>\n",
              "      <td>3.0</td>\n",
              "    </tr>\n",
              "    <tr>\n",
              "      <th>3</th>\n",
              "      <td>13418779</td>\n",
              "      <td>6.620073</td>\n",
              "      <td>House</td>\n",
              "      <td>Entire home/apt</td>\n",
              "      <td>{TV,\"Cable TV\",Internet,\"Wireless Internet\",Ki...</td>\n",
              "      <td>4</td>\n",
              "      <td>1.0</td>\n",
              "      <td>Real Bed</td>\n",
              "      <td>flexible</td>\n",
              "      <td>True</td>\n",
              "      <td>SF</td>\n",
              "      <td>This light-filled home-away-from-home is super...</td>\n",
              "      <td>NaN</td>\n",
              "      <td>t</td>\n",
              "      <td>t</td>\n",
              "      <td>NaN</td>\n",
              "      <td>2015-04-19</td>\n",
              "      <td>f</td>\n",
              "      <td>NaN</td>\n",
              "      <td>37.772004</td>\n",
              "      <td>-122.431619</td>\n",
              "      <td>Beautiful Flat in the Heart of SF!</td>\n",
              "      <td>Lower Haight</td>\n",
              "      <td>0</td>\n",
              "      <td>NaN</td>\n",
              "      <td>https://a0.muscache.com/im/pictures/72208dad-9...</td>\n",
              "      <td>94117.0</td>\n",
              "      <td>2.0</td>\n",
              "      <td>2.0</td>\n",
              "    </tr>\n",
              "    <tr>\n",
              "      <th>4</th>\n",
              "      <td>3808709</td>\n",
              "      <td>4.744932</td>\n",
              "      <td>Apartment</td>\n",
              "      <td>Entire home/apt</td>\n",
              "      <td>{TV,Internet,\"Wireless Internet\",\"Air conditio...</td>\n",
              "      <td>2</td>\n",
              "      <td>1.0</td>\n",
              "      <td>Real Bed</td>\n",
              "      <td>moderate</td>\n",
              "      <td>True</td>\n",
              "      <td>DC</td>\n",
              "      <td>Cool, cozy, and comfortable studio located in ...</td>\n",
              "      <td>2015-05-12</td>\n",
              "      <td>t</td>\n",
              "      <td>t</td>\n",
              "      <td>100%</td>\n",
              "      <td>2015-03-01</td>\n",
              "      <td>t</td>\n",
              "      <td>2017-01-22</td>\n",
              "      <td>38.925627</td>\n",
              "      <td>-77.034596</td>\n",
              "      <td>Great studio in midtown DC</td>\n",
              "      <td>Columbia Heights</td>\n",
              "      <td>4</td>\n",
              "      <td>40.0</td>\n",
              "      <td>NaN</td>\n",
              "      <td>20009</td>\n",
              "      <td>0.0</td>\n",
              "      <td>1.0</td>\n",
              "    </tr>\n",
              "  </tbody>\n",
              "</table>\n",
              "</div>"
            ],
            "text/plain": [
              "         id  log_price property_type  ...  zipcode bedrooms  beds\n",
              "0   6901257   5.010635     Apartment  ...    11201      1.0   1.0\n",
              "1   6304928   5.129899     Apartment  ...    10019      3.0   3.0\n",
              "2   7919400   4.976734     Apartment  ...    10027      1.0   3.0\n",
              "3  13418779   6.620073         House  ...  94117.0      2.0   2.0\n",
              "4   3808709   4.744932     Apartment  ...    20009      0.0   1.0\n",
              "\n",
              "[5 rows x 29 columns]"
            ]
          },
          "metadata": {
            "tags": []
          },
          "execution_count": 4
        }
      ]
    },
    {
      "cell_type": "code",
      "metadata": {
        "id": "lbNs9FDL_XO6",
        "colab_type": "code",
        "outputId": "4b281b45-72f8-4d22-88bc-396d548f49eb",
        "colab": {
          "base_uri": "https://localhost:8080/",
          "height": 34
        }
      },
      "source": [
        "len(filedata.columns)"
      ],
      "execution_count": 0,
      "outputs": [
        {
          "output_type": "execute_result",
          "data": {
            "text/plain": [
              "29"
            ]
          },
          "metadata": {
            "tags": []
          },
          "execution_count": 5
        }
      ]
    },
    {
      "cell_type": "code",
      "metadata": {
        "id": "TTBwW9qQ_XRL",
        "colab_type": "code",
        "outputId": "ff13e8db-c50d-4a57-b24a-bf9315149f1d",
        "colab": {
          "base_uri": "https://localhost:8080/",
          "height": 34
        }
      },
      "source": [
        "filedata.shape"
      ],
      "execution_count": 0,
      "outputs": [
        {
          "output_type": "execute_result",
          "data": {
            "text/plain": [
              "(74111, 29)"
            ]
          },
          "metadata": {
            "tags": []
          },
          "execution_count": 6
        }
      ]
    },
    {
      "cell_type": "code",
      "metadata": {
        "id": "vxIhJ8d3_XTj",
        "colab_type": "code",
        "outputId": "cf90144f-8e3c-4d81-ee2f-642eec0654ab",
        "colab": {
          "base_uri": "https://localhost:8080/",
          "height": 595
        }
      },
      "source": [
        "filedata.info()"
      ],
      "execution_count": 0,
      "outputs": [
        {
          "output_type": "stream",
          "text": [
            "<class 'pandas.core.frame.DataFrame'>\n",
            "RangeIndex: 74111 entries, 0 to 74110\n",
            "Data columns (total 29 columns):\n",
            "id                        74111 non-null int64\n",
            "log_price                 74111 non-null float64\n",
            "property_type             74111 non-null object\n",
            "room_type                 74111 non-null object\n",
            "amenities                 74111 non-null object\n",
            "accommodates              74111 non-null int64\n",
            "bathrooms                 73911 non-null float64\n",
            "bed_type                  74111 non-null object\n",
            "cancellation_policy       74111 non-null object\n",
            "cleaning_fee              74111 non-null bool\n",
            "city                      74111 non-null object\n",
            "description               74111 non-null object\n",
            "first_review              58247 non-null object\n",
            "host_has_profile_pic      73923 non-null object\n",
            "host_identity_verified    73923 non-null object\n",
            "host_response_rate        55812 non-null object\n",
            "host_since                73923 non-null object\n",
            "instant_bookable          74111 non-null object\n",
            "last_review               58284 non-null object\n",
            "latitude                  74111 non-null float64\n",
            "longitude                 74111 non-null float64\n",
            "name                      74111 non-null object\n",
            "neighbourhood             67239 non-null object\n",
            "number_of_reviews         74111 non-null int64\n",
            "review_scores_rating      57389 non-null float64\n",
            "thumbnail_url             65895 non-null object\n",
            "zipcode                   73145 non-null object\n",
            "bedrooms                  74020 non-null float64\n",
            "beds                      73980 non-null float64\n",
            "dtypes: bool(1), float64(7), int64(3), object(18)\n",
            "memory usage: 15.9+ MB\n"
          ],
          "name": "stdout"
        }
      ]
    },
    {
      "cell_type": "code",
      "metadata": {
        "id": "SigLZWH9_XWb",
        "colab_type": "code",
        "outputId": "8693078f-4b00-423f-f8d7-ac4fcb2ae6b0",
        "colab": {
          "base_uri": "https://localhost:8080/",
          "height": 238
        }
      },
      "source": [
        "for col in filedata:\n",
        "    if (filedata[col].isnull().any()):\n",
        "        print(col)"
      ],
      "execution_count": 0,
      "outputs": [
        {
          "output_type": "stream",
          "text": [
            "bathrooms\n",
            "first_review\n",
            "host_has_profile_pic\n",
            "host_identity_verified\n",
            "host_response_rate\n",
            "host_since\n",
            "last_review\n",
            "neighbourhood\n",
            "review_scores_rating\n",
            "thumbnail_url\n",
            "zipcode\n",
            "bedrooms\n",
            "beds\n"
          ],
          "name": "stdout"
        }
      ]
    },
    {
      "cell_type": "code",
      "metadata": {
        "id": "Xtesw2yt_XYU",
        "colab_type": "code",
        "colab": {}
      },
      "source": [
        "#Filling the NA's\n",
        "filedata=filedata.fillna(0)"
      ],
      "execution_count": 0,
      "outputs": []
    },
    {
      "cell_type": "code",
      "metadata": {
        "id": "wQwWOUON_Xaz",
        "colab_type": "code",
        "outputId": "d8e6eefe-a247-4bd2-f5c5-a0211b1280c8",
        "colab": {
          "base_uri": "https://localhost:8080/",
          "height": 317
        }
      },
      "source": [
        "filedata.describe()"
      ],
      "execution_count": 0,
      "outputs": [
        {
          "output_type": "execute_result",
          "data": {
            "text/html": [
              "<div>\n",
              "<style scoped>\n",
              "    .dataframe tbody tr th:only-of-type {\n",
              "        vertical-align: middle;\n",
              "    }\n",
              "\n",
              "    .dataframe tbody tr th {\n",
              "        vertical-align: top;\n",
              "    }\n",
              "\n",
              "    .dataframe thead th {\n",
              "        text-align: right;\n",
              "    }\n",
              "</style>\n",
              "<table border=\"1\" class=\"dataframe\">\n",
              "  <thead>\n",
              "    <tr style=\"text-align: right;\">\n",
              "      <th></th>\n",
              "      <th>id</th>\n",
              "      <th>log_price</th>\n",
              "      <th>accommodates</th>\n",
              "      <th>bathrooms</th>\n",
              "      <th>latitude</th>\n",
              "      <th>longitude</th>\n",
              "      <th>number_of_reviews</th>\n",
              "      <th>review_scores_rating</th>\n",
              "      <th>bedrooms</th>\n",
              "      <th>beds</th>\n",
              "    </tr>\n",
              "  </thead>\n",
              "  <tbody>\n",
              "    <tr>\n",
              "      <th>count</th>\n",
              "      <td>7.411100e+04</td>\n",
              "      <td>74111.000000</td>\n",
              "      <td>74111.000000</td>\n",
              "      <td>74111.000000</td>\n",
              "      <td>74111.000000</td>\n",
              "      <td>74111.000000</td>\n",
              "      <td>74111.000000</td>\n",
              "      <td>74111.000000</td>\n",
              "      <td>74111.000000</td>\n",
              "      <td>74111.000000</td>\n",
              "    </tr>\n",
              "    <tr>\n",
              "      <th>mean</th>\n",
              "      <td>1.126662e+07</td>\n",
              "      <td>4.782069</td>\n",
              "      <td>3.155146</td>\n",
              "      <td>1.231929</td>\n",
              "      <td>38.445958</td>\n",
              "      <td>-92.397525</td>\n",
              "      <td>20.900568</td>\n",
              "      <td>72.842520</td>\n",
              "      <td>1.264239</td>\n",
              "      <td>1.707844</td>\n",
              "    </tr>\n",
              "    <tr>\n",
              "      <th>std</th>\n",
              "      <td>6.081735e+06</td>\n",
              "      <td>0.717394</td>\n",
              "      <td>2.153589</td>\n",
              "      <td>0.584780</td>\n",
              "      <td>3.080167</td>\n",
              "      <td>21.705322</td>\n",
              "      <td>37.828641</td>\n",
              "      <td>39.920507</td>\n",
              "      <td>0.852773</td>\n",
              "      <td>1.255092</td>\n",
              "    </tr>\n",
              "    <tr>\n",
              "      <th>min</th>\n",
              "      <td>3.440000e+02</td>\n",
              "      <td>0.000000</td>\n",
              "      <td>1.000000</td>\n",
              "      <td>0.000000</td>\n",
              "      <td>33.338905</td>\n",
              "      <td>-122.511500</td>\n",
              "      <td>0.000000</td>\n",
              "      <td>0.000000</td>\n",
              "      <td>0.000000</td>\n",
              "      <td>0.000000</td>\n",
              "    </tr>\n",
              "    <tr>\n",
              "      <th>25%</th>\n",
              "      <td>6.261964e+06</td>\n",
              "      <td>4.317488</td>\n",
              "      <td>2.000000</td>\n",
              "      <td>1.000000</td>\n",
              "      <td>34.127908</td>\n",
              "      <td>-118.342374</td>\n",
              "      <td>1.000000</td>\n",
              "      <td>80.000000</td>\n",
              "      <td>1.000000</td>\n",
              "      <td>1.000000</td>\n",
              "    </tr>\n",
              "    <tr>\n",
              "      <th>50%</th>\n",
              "      <td>1.225415e+07</td>\n",
              "      <td>4.709530</td>\n",
              "      <td>2.000000</td>\n",
              "      <td>1.000000</td>\n",
              "      <td>40.662138</td>\n",
              "      <td>-76.996965</td>\n",
              "      <td>6.000000</td>\n",
              "      <td>94.000000</td>\n",
              "      <td>1.000000</td>\n",
              "      <td>1.000000</td>\n",
              "    </tr>\n",
              "    <tr>\n",
              "      <th>75%</th>\n",
              "      <td>1.640226e+07</td>\n",
              "      <td>5.220356</td>\n",
              "      <td>4.000000</td>\n",
              "      <td>1.000000</td>\n",
              "      <td>40.746096</td>\n",
              "      <td>-73.954660</td>\n",
              "      <td>23.000000</td>\n",
              "      <td>99.000000</td>\n",
              "      <td>1.000000</td>\n",
              "      <td>2.000000</td>\n",
              "    </tr>\n",
              "    <tr>\n",
              "      <th>max</th>\n",
              "      <td>2.123090e+07</td>\n",
              "      <td>7.600402</td>\n",
              "      <td>16.000000</td>\n",
              "      <td>8.000000</td>\n",
              "      <td>42.390437</td>\n",
              "      <td>-70.985047</td>\n",
              "      <td>605.000000</td>\n",
              "      <td>100.000000</td>\n",
              "      <td>10.000000</td>\n",
              "      <td>18.000000</td>\n",
              "    </tr>\n",
              "  </tbody>\n",
              "</table>\n",
              "</div>"
            ],
            "text/plain": [
              "                 id     log_price  ...      bedrooms          beds\n",
              "count  7.411100e+04  74111.000000  ...  74111.000000  74111.000000\n",
              "mean   1.126662e+07      4.782069  ...      1.264239      1.707844\n",
              "std    6.081735e+06      0.717394  ...      0.852773      1.255092\n",
              "min    3.440000e+02      0.000000  ...      0.000000      0.000000\n",
              "25%    6.261964e+06      4.317488  ...      1.000000      1.000000\n",
              "50%    1.225415e+07      4.709530  ...      1.000000      1.000000\n",
              "75%    1.640226e+07      5.220356  ...      1.000000      2.000000\n",
              "max    2.123090e+07      7.600402  ...     10.000000     18.000000\n",
              "\n",
              "[8 rows x 10 columns]"
            ]
          },
          "metadata": {
            "tags": []
          },
          "execution_count": 10
        }
      ]
    },
    {
      "cell_type": "code",
      "metadata": {
        "id": "AUzqq-Sz_XdT",
        "colab_type": "code",
        "outputId": "c5290662-a6e2-4fc8-d4d8-b0f564ed763a",
        "colab": {
          "base_uri": "https://localhost:8080/",
          "height": 478
        }
      },
      "source": [
        "filedata.describe(include='all')"
      ],
      "execution_count": 0,
      "outputs": [
        {
          "output_type": "execute_result",
          "data": {
            "text/html": [
              "<div>\n",
              "<style scoped>\n",
              "    .dataframe tbody tr th:only-of-type {\n",
              "        vertical-align: middle;\n",
              "    }\n",
              "\n",
              "    .dataframe tbody tr th {\n",
              "        vertical-align: top;\n",
              "    }\n",
              "\n",
              "    .dataframe thead th {\n",
              "        text-align: right;\n",
              "    }\n",
              "</style>\n",
              "<table border=\"1\" class=\"dataframe\">\n",
              "  <thead>\n",
              "    <tr style=\"text-align: right;\">\n",
              "      <th></th>\n",
              "      <th>id</th>\n",
              "      <th>log_price</th>\n",
              "      <th>property_type</th>\n",
              "      <th>room_type</th>\n",
              "      <th>amenities</th>\n",
              "      <th>accommodates</th>\n",
              "      <th>bathrooms</th>\n",
              "      <th>bed_type</th>\n",
              "      <th>cancellation_policy</th>\n",
              "      <th>cleaning_fee</th>\n",
              "      <th>city</th>\n",
              "      <th>description</th>\n",
              "      <th>first_review</th>\n",
              "      <th>host_has_profile_pic</th>\n",
              "      <th>host_identity_verified</th>\n",
              "      <th>host_response_rate</th>\n",
              "      <th>host_since</th>\n",
              "      <th>instant_bookable</th>\n",
              "      <th>last_review</th>\n",
              "      <th>latitude</th>\n",
              "      <th>longitude</th>\n",
              "      <th>name</th>\n",
              "      <th>neighbourhood</th>\n",
              "      <th>number_of_reviews</th>\n",
              "      <th>review_scores_rating</th>\n",
              "      <th>thumbnail_url</th>\n",
              "      <th>zipcode</th>\n",
              "      <th>bedrooms</th>\n",
              "      <th>beds</th>\n",
              "    </tr>\n",
              "  </thead>\n",
              "  <tbody>\n",
              "    <tr>\n",
              "      <th>count</th>\n",
              "      <td>7.411100e+04</td>\n",
              "      <td>74111.000000</td>\n",
              "      <td>74111</td>\n",
              "      <td>74111</td>\n",
              "      <td>74111</td>\n",
              "      <td>74111.000000</td>\n",
              "      <td>74111.000000</td>\n",
              "      <td>74111</td>\n",
              "      <td>74111</td>\n",
              "      <td>74111</td>\n",
              "      <td>74111</td>\n",
              "      <td>74111</td>\n",
              "      <td>74111.0</td>\n",
              "      <td>74111</td>\n",
              "      <td>74111</td>\n",
              "      <td>74111</td>\n",
              "      <td>74111</td>\n",
              "      <td>74111</td>\n",
              "      <td>74111.0</td>\n",
              "      <td>74111.000000</td>\n",
              "      <td>74111.000000</td>\n",
              "      <td>74111</td>\n",
              "      <td>74111.0</td>\n",
              "      <td>74111.000000</td>\n",
              "      <td>74111.000000</td>\n",
              "      <td>74111.0</td>\n",
              "      <td>74111</td>\n",
              "      <td>74111.000000</td>\n",
              "      <td>74111.000000</td>\n",
              "    </tr>\n",
              "    <tr>\n",
              "      <th>unique</th>\n",
              "      <td>NaN</td>\n",
              "      <td>NaN</td>\n",
              "      <td>35</td>\n",
              "      <td>3</td>\n",
              "      <td>67122</td>\n",
              "      <td>NaN</td>\n",
              "      <td>NaN</td>\n",
              "      <td>5</td>\n",
              "      <td>5</td>\n",
              "      <td>2</td>\n",
              "      <td>6</td>\n",
              "      <td>73479</td>\n",
              "      <td>2555.0</td>\n",
              "      <td>3</td>\n",
              "      <td>3</td>\n",
              "      <td>81</td>\n",
              "      <td>3088</td>\n",
              "      <td>2</td>\n",
              "      <td>1372.0</td>\n",
              "      <td>NaN</td>\n",
              "      <td>NaN</td>\n",
              "      <td>73359</td>\n",
              "      <td>620.0</td>\n",
              "      <td>NaN</td>\n",
              "      <td>NaN</td>\n",
              "      <td>65884.0</td>\n",
              "      <td>770</td>\n",
              "      <td>NaN</td>\n",
              "      <td>NaN</td>\n",
              "    </tr>\n",
              "    <tr>\n",
              "      <th>top</th>\n",
              "      <td>NaN</td>\n",
              "      <td>NaN</td>\n",
              "      <td>Apartment</td>\n",
              "      <td>Entire home/apt</td>\n",
              "      <td>{}</td>\n",
              "      <td>NaN</td>\n",
              "      <td>NaN</td>\n",
              "      <td>Real Bed</td>\n",
              "      <td>strict</td>\n",
              "      <td>True</td>\n",
              "      <td>NYC</td>\n",
              "      <td>Hello, I've been running guest house for Korea...</td>\n",
              "      <td>0.0</td>\n",
              "      <td>t</td>\n",
              "      <td>t</td>\n",
              "      <td>100%</td>\n",
              "      <td>2015-03-30</td>\n",
              "      <td>f</td>\n",
              "      <td>0.0</td>\n",
              "      <td>NaN</td>\n",
              "      <td>NaN</td>\n",
              "      <td>Bunk bed in the Treat Street Clubhouse</td>\n",
              "      <td>0.0</td>\n",
              "      <td>NaN</td>\n",
              "      <td>NaN</td>\n",
              "      <td>0.0</td>\n",
              "      <td>11211.0</td>\n",
              "      <td>NaN</td>\n",
              "      <td>NaN</td>\n",
              "    </tr>\n",
              "    <tr>\n",
              "      <th>freq</th>\n",
              "      <td>NaN</td>\n",
              "      <td>NaN</td>\n",
              "      <td>49003</td>\n",
              "      <td>41310</td>\n",
              "      <td>586</td>\n",
              "      <td>NaN</td>\n",
              "      <td>NaN</td>\n",
              "      <td>72028</td>\n",
              "      <td>32374</td>\n",
              "      <td>54403</td>\n",
              "      <td>32349</td>\n",
              "      <td>8</td>\n",
              "      <td>15864.0</td>\n",
              "      <td>73697</td>\n",
              "      <td>49748</td>\n",
              "      <td>43254</td>\n",
              "      <td>246</td>\n",
              "      <td>54660</td>\n",
              "      <td>15827.0</td>\n",
              "      <td>NaN</td>\n",
              "      <td>NaN</td>\n",
              "      <td>8</td>\n",
              "      <td>6872.0</td>\n",
              "      <td>NaN</td>\n",
              "      <td>NaN</td>\n",
              "      <td>8216.0</td>\n",
              "      <td>1368</td>\n",
              "      <td>NaN</td>\n",
              "      <td>NaN</td>\n",
              "    </tr>\n",
              "    <tr>\n",
              "      <th>mean</th>\n",
              "      <td>1.126662e+07</td>\n",
              "      <td>4.782069</td>\n",
              "      <td>NaN</td>\n",
              "      <td>NaN</td>\n",
              "      <td>NaN</td>\n",
              "      <td>3.155146</td>\n",
              "      <td>1.231929</td>\n",
              "      <td>NaN</td>\n",
              "      <td>NaN</td>\n",
              "      <td>NaN</td>\n",
              "      <td>NaN</td>\n",
              "      <td>NaN</td>\n",
              "      <td>NaN</td>\n",
              "      <td>NaN</td>\n",
              "      <td>NaN</td>\n",
              "      <td>NaN</td>\n",
              "      <td>NaN</td>\n",
              "      <td>NaN</td>\n",
              "      <td>NaN</td>\n",
              "      <td>38.445958</td>\n",
              "      <td>-92.397525</td>\n",
              "      <td>NaN</td>\n",
              "      <td>NaN</td>\n",
              "      <td>20.900568</td>\n",
              "      <td>72.842520</td>\n",
              "      <td>NaN</td>\n",
              "      <td>NaN</td>\n",
              "      <td>1.264239</td>\n",
              "      <td>1.707844</td>\n",
              "    </tr>\n",
              "    <tr>\n",
              "      <th>std</th>\n",
              "      <td>6.081735e+06</td>\n",
              "      <td>0.717394</td>\n",
              "      <td>NaN</td>\n",
              "      <td>NaN</td>\n",
              "      <td>NaN</td>\n",
              "      <td>2.153589</td>\n",
              "      <td>0.584780</td>\n",
              "      <td>NaN</td>\n",
              "      <td>NaN</td>\n",
              "      <td>NaN</td>\n",
              "      <td>NaN</td>\n",
              "      <td>NaN</td>\n",
              "      <td>NaN</td>\n",
              "      <td>NaN</td>\n",
              "      <td>NaN</td>\n",
              "      <td>NaN</td>\n",
              "      <td>NaN</td>\n",
              "      <td>NaN</td>\n",
              "      <td>NaN</td>\n",
              "      <td>3.080167</td>\n",
              "      <td>21.705322</td>\n",
              "      <td>NaN</td>\n",
              "      <td>NaN</td>\n",
              "      <td>37.828641</td>\n",
              "      <td>39.920507</td>\n",
              "      <td>NaN</td>\n",
              "      <td>NaN</td>\n",
              "      <td>0.852773</td>\n",
              "      <td>1.255092</td>\n",
              "    </tr>\n",
              "    <tr>\n",
              "      <th>min</th>\n",
              "      <td>3.440000e+02</td>\n",
              "      <td>0.000000</td>\n",
              "      <td>NaN</td>\n",
              "      <td>NaN</td>\n",
              "      <td>NaN</td>\n",
              "      <td>1.000000</td>\n",
              "      <td>0.000000</td>\n",
              "      <td>NaN</td>\n",
              "      <td>NaN</td>\n",
              "      <td>NaN</td>\n",
              "      <td>NaN</td>\n",
              "      <td>NaN</td>\n",
              "      <td>NaN</td>\n",
              "      <td>NaN</td>\n",
              "      <td>NaN</td>\n",
              "      <td>NaN</td>\n",
              "      <td>NaN</td>\n",
              "      <td>NaN</td>\n",
              "      <td>NaN</td>\n",
              "      <td>33.338905</td>\n",
              "      <td>-122.511500</td>\n",
              "      <td>NaN</td>\n",
              "      <td>NaN</td>\n",
              "      <td>0.000000</td>\n",
              "      <td>0.000000</td>\n",
              "      <td>NaN</td>\n",
              "      <td>NaN</td>\n",
              "      <td>0.000000</td>\n",
              "      <td>0.000000</td>\n",
              "    </tr>\n",
              "    <tr>\n",
              "      <th>25%</th>\n",
              "      <td>6.261964e+06</td>\n",
              "      <td>4.317488</td>\n",
              "      <td>NaN</td>\n",
              "      <td>NaN</td>\n",
              "      <td>NaN</td>\n",
              "      <td>2.000000</td>\n",
              "      <td>1.000000</td>\n",
              "      <td>NaN</td>\n",
              "      <td>NaN</td>\n",
              "      <td>NaN</td>\n",
              "      <td>NaN</td>\n",
              "      <td>NaN</td>\n",
              "      <td>NaN</td>\n",
              "      <td>NaN</td>\n",
              "      <td>NaN</td>\n",
              "      <td>NaN</td>\n",
              "      <td>NaN</td>\n",
              "      <td>NaN</td>\n",
              "      <td>NaN</td>\n",
              "      <td>34.127908</td>\n",
              "      <td>-118.342374</td>\n",
              "      <td>NaN</td>\n",
              "      <td>NaN</td>\n",
              "      <td>1.000000</td>\n",
              "      <td>80.000000</td>\n",
              "      <td>NaN</td>\n",
              "      <td>NaN</td>\n",
              "      <td>1.000000</td>\n",
              "      <td>1.000000</td>\n",
              "    </tr>\n",
              "    <tr>\n",
              "      <th>50%</th>\n",
              "      <td>1.225415e+07</td>\n",
              "      <td>4.709530</td>\n",
              "      <td>NaN</td>\n",
              "      <td>NaN</td>\n",
              "      <td>NaN</td>\n",
              "      <td>2.000000</td>\n",
              "      <td>1.000000</td>\n",
              "      <td>NaN</td>\n",
              "      <td>NaN</td>\n",
              "      <td>NaN</td>\n",
              "      <td>NaN</td>\n",
              "      <td>NaN</td>\n",
              "      <td>NaN</td>\n",
              "      <td>NaN</td>\n",
              "      <td>NaN</td>\n",
              "      <td>NaN</td>\n",
              "      <td>NaN</td>\n",
              "      <td>NaN</td>\n",
              "      <td>NaN</td>\n",
              "      <td>40.662138</td>\n",
              "      <td>-76.996965</td>\n",
              "      <td>NaN</td>\n",
              "      <td>NaN</td>\n",
              "      <td>6.000000</td>\n",
              "      <td>94.000000</td>\n",
              "      <td>NaN</td>\n",
              "      <td>NaN</td>\n",
              "      <td>1.000000</td>\n",
              "      <td>1.000000</td>\n",
              "    </tr>\n",
              "    <tr>\n",
              "      <th>75%</th>\n",
              "      <td>1.640226e+07</td>\n",
              "      <td>5.220356</td>\n",
              "      <td>NaN</td>\n",
              "      <td>NaN</td>\n",
              "      <td>NaN</td>\n",
              "      <td>4.000000</td>\n",
              "      <td>1.000000</td>\n",
              "      <td>NaN</td>\n",
              "      <td>NaN</td>\n",
              "      <td>NaN</td>\n",
              "      <td>NaN</td>\n",
              "      <td>NaN</td>\n",
              "      <td>NaN</td>\n",
              "      <td>NaN</td>\n",
              "      <td>NaN</td>\n",
              "      <td>NaN</td>\n",
              "      <td>NaN</td>\n",
              "      <td>NaN</td>\n",
              "      <td>NaN</td>\n",
              "      <td>40.746096</td>\n",
              "      <td>-73.954660</td>\n",
              "      <td>NaN</td>\n",
              "      <td>NaN</td>\n",
              "      <td>23.000000</td>\n",
              "      <td>99.000000</td>\n",
              "      <td>NaN</td>\n",
              "      <td>NaN</td>\n",
              "      <td>1.000000</td>\n",
              "      <td>2.000000</td>\n",
              "    </tr>\n",
              "    <tr>\n",
              "      <th>max</th>\n",
              "      <td>2.123090e+07</td>\n",
              "      <td>7.600402</td>\n",
              "      <td>NaN</td>\n",
              "      <td>NaN</td>\n",
              "      <td>NaN</td>\n",
              "      <td>16.000000</td>\n",
              "      <td>8.000000</td>\n",
              "      <td>NaN</td>\n",
              "      <td>NaN</td>\n",
              "      <td>NaN</td>\n",
              "      <td>NaN</td>\n",
              "      <td>NaN</td>\n",
              "      <td>NaN</td>\n",
              "      <td>NaN</td>\n",
              "      <td>NaN</td>\n",
              "      <td>NaN</td>\n",
              "      <td>NaN</td>\n",
              "      <td>NaN</td>\n",
              "      <td>NaN</td>\n",
              "      <td>42.390437</td>\n",
              "      <td>-70.985047</td>\n",
              "      <td>NaN</td>\n",
              "      <td>NaN</td>\n",
              "      <td>605.000000</td>\n",
              "      <td>100.000000</td>\n",
              "      <td>NaN</td>\n",
              "      <td>NaN</td>\n",
              "      <td>10.000000</td>\n",
              "      <td>18.000000</td>\n",
              "    </tr>\n",
              "  </tbody>\n",
              "</table>\n",
              "</div>"
            ],
            "text/plain": [
              "                  id     log_price  ...      bedrooms          beds\n",
              "count   7.411100e+04  74111.000000  ...  74111.000000  74111.000000\n",
              "unique           NaN           NaN  ...           NaN           NaN\n",
              "top              NaN           NaN  ...           NaN           NaN\n",
              "freq             NaN           NaN  ...           NaN           NaN\n",
              "mean    1.126662e+07      4.782069  ...      1.264239      1.707844\n",
              "std     6.081735e+06      0.717394  ...      0.852773      1.255092\n",
              "min     3.440000e+02      0.000000  ...      0.000000      0.000000\n",
              "25%     6.261964e+06      4.317488  ...      1.000000      1.000000\n",
              "50%     1.225415e+07      4.709530  ...      1.000000      1.000000\n",
              "75%     1.640226e+07      5.220356  ...      1.000000      2.000000\n",
              "max     2.123090e+07      7.600402  ...     10.000000     18.000000\n",
              "\n",
              "[11 rows x 29 columns]"
            ]
          },
          "metadata": {
            "tags": []
          },
          "execution_count": 11
        }
      ]
    },
    {
      "cell_type": "code",
      "metadata": {
        "id": "TOUaVsCc_Xfz",
        "colab_type": "code",
        "outputId": "096addd1-23ae-4d23-d7b5-c326d205c95a",
        "colab": {
          "base_uri": "https://localhost:8080/",
          "height": 279
        }
      },
      "source": [
        "#Total rooms\n",
        "numerics = ['int16', 'int32', 'int64', 'float16', 'float32', 'float64','uint8']\n",
        "numericdataX = filedata.select_dtypes(include=numerics)\n",
        "x= numericdataX['accommodates']\n",
        "sns.distplot(x);"
      ],
      "execution_count": 0,
      "outputs": [
        {
          "output_type": "display_data",
          "data": {
            "image/png": "[encoded data removed]",
            "text/plain": [
              "<Figure size 432x288 with 1 Axes>"
            ]
          },
          "metadata": {
            "tags": []
          }
        }
      ]
    },
    {
      "cell_type": "code",
      "metadata": {
        "id": "jyt1wsXp_XiD",
        "colab_type": "code",
        "outputId": "efe35785-33c4-4674-ec45-d143225e8ff1",
        "colab": {
          "base_uri": "https://localhost:8080/",
          "height": 280
        }
      },
      "source": [
        "#Price distribution\n",
        "x= numericdataX.iloc[:,1]\n",
        "sns.distplot(x);"
      ],
      "execution_count": 0,
      "outputs": [
        {
          "output_type": "display_data",
          "data": {
            "image/png": "[encoded data removed]",
            "text/plain": [
              "<Figure size 432x288 with 1 Axes>"
            ]
          },
          "metadata": {
            "tags": []
          }
        }
      ]
    },
    {
      "cell_type": "code",
      "metadata": {
        "id": "HcI7K545_XkS",
        "colab_type": "code",
        "outputId": "010f8997-7070-417d-cd62-1bda9adee3a9",
        "colab": {
          "base_uri": "https://localhost:8080/",
          "height": 567
        }
      },
      "source": [
        "#Types of bookings\n",
        "ggplot(filedata, aes(x='room_type')) + geom_bar(fill = \"red\")"
      ],
      "execution_count": 0,
      "outputs": [
        {
          "output_type": "stream",
          "text": [
            "/usr/local/lib/python3.6/dist-packages/plotnine/scales/scale.py:93: MatplotlibDeprecationWarning: \n",
            "The iterable function was deprecated in Matplotlib 3.1 and will be removed in 3.3. Use np.iterable instead.\n",
            "  if cbook.iterable(self.breaks) and cbook.iterable(self.labels):\n",
            "/usr/local/lib/python3.6/dist-packages/plotnine/utils.py:553: MatplotlibDeprecationWarning: \n",
            "The iterable function was deprecated in Matplotlib 3.1 and will be removed in 3.3. Use np.iterable instead.\n",
            "  return cbook.iterable(var) and not is_string(var)\n"
          ],
          "name": "stderr"
        },
        {
          "output_type": "display_data",
          "data": {
            "image/png": "[encoded data removed]",
            "text/plain": [
              "<Figure size 640x480 with 1 Axes>"
            ]
          },
          "metadata": {
            "tags": []
          }
        },
        {
          "output_type": "execute_result",
          "data": {
            "text/plain": [
              "<ggplot: (8777980638030)>"
            ]
          },
          "metadata": {
            "tags": []
          },
          "execution_count": 14
        }
      ]
    },
    {
      "cell_type": "code",
      "metadata": {
        "id": "WCIuxyVOARtm",
        "colab_type": "code",
        "outputId": "9c0bfc22-3c5e-4e6e-d20c-47603740a03a",
        "colab": {
          "base_uri": "https://localhost:8080/",
          "height": 566
        }
      },
      "source": [
        "#Most bookings in the city\n",
        "ggplot(filedata, aes(x='city')) + geom_bar(fill = \"green\")"
      ],
      "execution_count": 0,
      "outputs": [
        {
          "output_type": "stream",
          "text": [
            "/usr/local/lib/python3.6/dist-packages/plotnine/scales/scale.py:93: MatplotlibDeprecationWarning: \n",
            "The iterable function was deprecated in Matplotlib 3.1 and will be removed in 3.3. Use np.iterable instead.\n",
            "  if cbook.iterable(self.breaks) and cbook.iterable(self.labels):\n",
            "/usr/local/lib/python3.6/dist-packages/plotnine/utils.py:553: MatplotlibDeprecationWarning: \n",
            "The iterable function was deprecated in Matplotlib 3.1 and will be removed in 3.3. Use np.iterable instead.\n",
            "  return cbook.iterable(var) and not is_string(var)\n"
          ],
          "name": "stderr"
        },
        {
          "output_type": "display_data",
          "data": {
            "image/png": "[encoded data removed]",
            "text/plain": [
              "<Figure size 640x480 with 1 Axes>"
            ]
          },
          "metadata": {
            "tags": []
          }
        },
        {
          "output_type": "execute_result",
          "data": {
            "text/plain": [
              "<ggplot: (8777979028288)>"
            ]
          },
          "metadata": {
            "tags": []
          },
          "execution_count": 15
        }
      ]
    },
    {
      "cell_type": "code",
      "metadata": {
        "id": "4vxoODGIAbP_",
        "colab_type": "code",
        "outputId": "ecc1c368-e1a6-4844-b68b-42696956b8a4",
        "colab": {
          "base_uri": "https://localhost:8080/",
          "height": 261
        }
      },
      "source": [
        "#Checking categorical data\n",
        "filedata.describe(include=['O'])"
      ],
      "execution_count": 0,
      "outputs": [
        {
          "output_type": "execute_result",
          "data": {
            "text/html": [
              "<div>\n",
              "<style scoped>\n",
              "    .dataframe tbody tr th:only-of-type {\n",
              "        vertical-align: middle;\n",
              "    }\n",
              "\n",
              "    .dataframe tbody tr th {\n",
              "        vertical-align: top;\n",
              "    }\n",
              "\n",
              "    .dataframe thead th {\n",
              "        text-align: right;\n",
              "    }\n",
              "</style>\n",
              "<table border=\"1\" class=\"dataframe\">\n",
              "  <thead>\n",
              "    <tr style=\"text-align: right;\">\n",
              "      <th></th>\n",
              "      <th>property_type</th>\n",
              "      <th>room_type</th>\n",
              "      <th>amenities</th>\n",
              "      <th>bed_type</th>\n",
              "      <th>cancellation_policy</th>\n",
              "      <th>city</th>\n",
              "      <th>description</th>\n",
              "      <th>first_review</th>\n",
              "      <th>host_has_profile_pic</th>\n",
              "      <th>host_identity_verified</th>\n",
              "      <th>host_response_rate</th>\n",
              "      <th>host_since</th>\n",
              "      <th>instant_bookable</th>\n",
              "      <th>last_review</th>\n",
              "      <th>name</th>\n",
              "      <th>neighbourhood</th>\n",
              "      <th>thumbnail_url</th>\n",
              "      <th>zipcode</th>\n",
              "    </tr>\n",
              "  </thead>\n",
              "  <tbody>\n",
              "    <tr>\n",
              "      <th>count</th>\n",
              "      <td>74111</td>\n",
              "      <td>74111</td>\n",
              "      <td>74111</td>\n",
              "      <td>74111</td>\n",
              "      <td>74111</td>\n",
              "      <td>74111</td>\n",
              "      <td>74111</td>\n",
              "      <td>74111</td>\n",
              "      <td>74111</td>\n",
              "      <td>74111</td>\n",
              "      <td>74111</td>\n",
              "      <td>74111</td>\n",
              "      <td>74111</td>\n",
              "      <td>74111</td>\n",
              "      <td>74111</td>\n",
              "      <td>74111</td>\n",
              "      <td>74111</td>\n",
              "      <td>74111</td>\n",
              "    </tr>\n",
              "    <tr>\n",
              "      <th>unique</th>\n",
              "      <td>35</td>\n",
              "      <td>3</td>\n",
              "      <td>67122</td>\n",
              "      <td>5</td>\n",
              "      <td>5</td>\n",
              "      <td>6</td>\n",
              "      <td>73479</td>\n",
              "      <td>2555</td>\n",
              "      <td>3</td>\n",
              "      <td>3</td>\n",
              "      <td>81</td>\n",
              "      <td>3088</td>\n",
              "      <td>2</td>\n",
              "      <td>1372</td>\n",
              "      <td>73359</td>\n",
              "      <td>620</td>\n",
              "      <td>65884</td>\n",
              "      <td>770</td>\n",
              "    </tr>\n",
              "    <tr>\n",
              "      <th>top</th>\n",
              "      <td>Apartment</td>\n",
              "      <td>Entire home/apt</td>\n",
              "      <td>{}</td>\n",
              "      <td>Real Bed</td>\n",
              "      <td>strict</td>\n",
              "      <td>NYC</td>\n",
              "      <td>Hello, I've been running guest house for Korea...</td>\n",
              "      <td>0</td>\n",
              "      <td>t</td>\n",
              "      <td>t</td>\n",
              "      <td>100%</td>\n",
              "      <td>2015-03-30</td>\n",
              "      <td>f</td>\n",
              "      <td>0</td>\n",
              "      <td>Bunk bed in the Treat Street Clubhouse</td>\n",
              "      <td>0</td>\n",
              "      <td>0</td>\n",
              "      <td>11211.0</td>\n",
              "    </tr>\n",
              "    <tr>\n",
              "      <th>freq</th>\n",
              "      <td>49003</td>\n",
              "      <td>41310</td>\n",
              "      <td>586</td>\n",
              "      <td>72028</td>\n",
              "      <td>32374</td>\n",
              "      <td>32349</td>\n",
              "      <td>8</td>\n",
              "      <td>15864</td>\n",
              "      <td>73697</td>\n",
              "      <td>49748</td>\n",
              "      <td>43254</td>\n",
              "      <td>246</td>\n",
              "      <td>54660</td>\n",
              "      <td>15827</td>\n",
              "      <td>8</td>\n",
              "      <td>6872</td>\n",
              "      <td>8216</td>\n",
              "      <td>1368</td>\n",
              "    </tr>\n",
              "  </tbody>\n",
              "</table>\n",
              "</div>"
            ],
            "text/plain": [
              "       property_type        room_type  ... thumbnail_url  zipcode\n",
              "count          74111            74111  ...         74111    74111\n",
              "unique            35                3  ...         65884      770\n",
              "top        Apartment  Entire home/apt  ...             0  11211.0\n",
              "freq           49003            41310  ...          8216     1368\n",
              "\n",
              "[4 rows x 18 columns]"
            ]
          },
          "metadata": {
            "tags": []
          },
          "execution_count": 16
        }
      ]
    },
    {
      "cell_type": "code",
      "metadata": {
        "id": "RJbh-Y1UAiQO",
        "colab_type": "code",
        "outputId": "00fdb56a-0ca3-40a2-9c76-c907d6bc8f67",
        "colab": {
          "base_uri": "https://localhost:8080/",
          "height": 317
        }
      },
      "source": [
        "#check numeric data\n",
        "filedata.describe()"
      ],
      "execution_count": 0,
      "outputs": [
        {
          "output_type": "execute_result",
          "data": {
            "text/html": [
              "<div>\n",
              "<style scoped>\n",
              "    .dataframe tbody tr th:only-of-type {\n",
              "        vertical-align: middle;\n",
              "    }\n",
              "\n",
              "    .dataframe tbody tr th {\n",
              "        vertical-align: top;\n",
              "    }\n",
              "\n",
              "    .dataframe thead th {\n",
              "        text-align: right;\n",
              "    }\n",
              "</style>\n",
              "<table border=\"1\" class=\"dataframe\">\n",
              "  <thead>\n",
              "    <tr style=\"text-align: right;\">\n",
              "      <th></th>\n",
              "      <th>id</th>\n",
              "      <th>log_price</th>\n",
              "      <th>accommodates</th>\n",
              "      <th>bathrooms</th>\n",
              "      <th>latitude</th>\n",
              "      <th>longitude</th>\n",
              "      <th>number_of_reviews</th>\n",
              "      <th>review_scores_rating</th>\n",
              "      <th>bedrooms</th>\n",
              "      <th>beds</th>\n",
              "    </tr>\n",
              "  </thead>\n",
              "  <tbody>\n",
              "    <tr>\n",
              "      <th>count</th>\n",
              "      <td>7.411100e+04</td>\n",
              "      <td>74111.000000</td>\n",
              "      <td>74111.000000</td>\n",
              "      <td>74111.000000</td>\n",
              "      <td>74111.000000</td>\n",
              "      <td>74111.000000</td>\n",
              "      <td>74111.000000</td>\n",
              "      <td>74111.000000</td>\n",
              "      <td>74111.000000</td>\n",
              "      <td>74111.000000</td>\n",
              "    </tr>\n",
              "    <tr>\n",
              "      <th>mean</th>\n",
              "      <td>1.126662e+07</td>\n",
              "      <td>4.782069</td>\n",
              "      <td>3.155146</td>\n",
              "      <td>1.231929</td>\n",
              "      <td>38.445958</td>\n",
              "      <td>-92.397525</td>\n",
              "      <td>20.900568</td>\n",
              "      <td>72.842520</td>\n",
              "      <td>1.264239</td>\n",
              "      <td>1.707844</td>\n",
              "    </tr>\n",
              "    <tr>\n",
              "      <th>std</th>\n",
              "      <td>6.081735e+06</td>\n",
              "      <td>0.717394</td>\n",
              "      <td>2.153589</td>\n",
              "      <td>0.584780</td>\n",
              "      <td>3.080167</td>\n",
              "      <td>21.705322</td>\n",
              "      <td>37.828641</td>\n",
              "      <td>39.920507</td>\n",
              "      <td>0.852773</td>\n",
              "      <td>1.255092</td>\n",
              "    </tr>\n",
              "    <tr>\n",
              "      <th>min</th>\n",
              "      <td>3.440000e+02</td>\n",
              "      <td>0.000000</td>\n",
              "      <td>1.000000</td>\n",
              "      <td>0.000000</td>\n",
              "      <td>33.338905</td>\n",
              "      <td>-122.511500</td>\n",
              "      <td>0.000000</td>\n",
              "      <td>0.000000</td>\n",
              "      <td>0.000000</td>\n",
              "      <td>0.000000</td>\n",
              "    </tr>\n",
              "    <tr>\n",
              "      <th>25%</th>\n",
              "      <td>6.261964e+06</td>\n",
              "      <td>4.317488</td>\n",
              "      <td>2.000000</td>\n",
              "      <td>1.000000</td>\n",
              "      <td>34.127908</td>\n",
              "      <td>-118.342374</td>\n",
              "      <td>1.000000</td>\n",
              "      <td>80.000000</td>\n",
              "      <td>1.000000</td>\n",
              "      <td>1.000000</td>\n",
              "    </tr>\n",
              "    <tr>\n",
              "      <th>50%</th>\n",
              "      <td>1.225415e+07</td>\n",
              "      <td>4.709530</td>\n",
              "      <td>2.000000</td>\n",
              "      <td>1.000000</td>\n",
              "      <td>40.662138</td>\n",
              "      <td>-76.996965</td>\n",
              "      <td>6.000000</td>\n",
              "      <td>94.000000</td>\n",
              "      <td>1.000000</td>\n",
              "      <td>1.000000</td>\n",
              "    </tr>\n",
              "    <tr>\n",
              "      <th>75%</th>\n",
              "      <td>1.640226e+07</td>\n",
              "      <td>5.220356</td>\n",
              "      <td>4.000000</td>\n",
              "      <td>1.000000</td>\n",
              "      <td>40.746096</td>\n",
              "      <td>-73.954660</td>\n",
              "      <td>23.000000</td>\n",
              "      <td>99.000000</td>\n",
              "      <td>1.000000</td>\n",
              "      <td>2.000000</td>\n",
              "    </tr>\n",
              "    <tr>\n",
              "      <th>max</th>\n",
              "      <td>2.123090e+07</td>\n",
              "      <td>7.600402</td>\n",
              "      <td>16.000000</td>\n",
              "      <td>8.000000</td>\n",
              "      <td>42.390437</td>\n",
              "      <td>-70.985047</td>\n",
              "      <td>605.000000</td>\n",
              "      <td>100.000000</td>\n",
              "      <td>10.000000</td>\n",
              "      <td>18.000000</td>\n",
              "    </tr>\n",
              "  </tbody>\n",
              "</table>\n",
              "</div>"
            ],
            "text/plain": [
              "                 id     log_price  ...      bedrooms          beds\n",
              "count  7.411100e+04  74111.000000  ...  74111.000000  74111.000000\n",
              "mean   1.126662e+07      4.782069  ...      1.264239      1.707844\n",
              "std    6.081735e+06      0.717394  ...      0.852773      1.255092\n",
              "min    3.440000e+02      0.000000  ...      0.000000      0.000000\n",
              "25%    6.261964e+06      4.317488  ...      1.000000      1.000000\n",
              "50%    1.225415e+07      4.709530  ...      1.000000      1.000000\n",
              "75%    1.640226e+07      5.220356  ...      1.000000      2.000000\n",
              "max    2.123090e+07      7.600402  ...     10.000000     18.000000\n",
              "\n",
              "[8 rows x 10 columns]"
            ]
          },
          "metadata": {
            "tags": []
          },
          "execution_count": 17
        }
      ]
    },
    {
      "cell_type": "code",
      "metadata": {
        "id": "zkYj7SLuAkAO",
        "colab_type": "code",
        "outputId": "d5850138-4ae3-424f-edc8-7a95cc04a3d5",
        "colab": {
          "base_uri": "https://localhost:8080/",
          "height": 153
        }
      },
      "source": [
        "filedata.columns"
      ],
      "execution_count": 0,
      "outputs": [
        {
          "output_type": "execute_result",
          "data": {
            "text/plain": [
              "Index(['id', 'log_price', 'property_type', 'room_type', 'amenities',\n",
              "       'accommodates', 'bathrooms', 'bed_type', 'cancellation_policy',\n",
              "       'cleaning_fee', 'city', 'description', 'first_review',\n",
              "       'host_has_profile_pic', 'host_identity_verified', 'host_response_rate',\n",
              "       'host_since', 'instant_bookable', 'last_review', 'latitude',\n",
              "       'longitude', 'name', 'neighbourhood', 'number_of_reviews',\n",
              "       'review_scores_rating', 'thumbnail_url', 'zipcode', 'bedrooms', 'beds'],\n",
              "      dtype='object')"
            ]
          },
          "metadata": {
            "tags": []
          },
          "execution_count": 18
        }
      ]
    },
    {
      "cell_type": "code",
      "metadata": {
        "id": "q5tmNevaAmCe",
        "colab_type": "code",
        "outputId": "880524ac-5d03-4363-e039-8c7a8a9fe3b9",
        "colab": {
          "base_uri": "https://localhost:8080/",
          "height": 656
        }
      },
      "source": [
        "#Linear Assumptions\n",
        "regressor = linear_model.LinearRegression()\n",
        "for i in range(1,10): \n",
        "    x= np.array(numericdataX.iloc[:,i]).reshape(-1,1)\n",
        "    y= np.array(filedata['log_price']).reshape(-1,1)\n",
        "    regressor.fit(x,y)\n",
        "    plt.figure(figsize=(8,5))\n",
        "    plt.subplot(10,1,i)\n",
        "    plt.scatter(x,y,color='blue', alpha=0.1)\n",
        "    plt.plot(x,regressor.predict(x),color=\"red\")\n",
        "    plt.legend()"
      ],
      "execution_count": 0,
      "outputs": [
        {
          "output_type": "stream",
          "text": [
            "No handles with labels found to put in legend.\n",
            "No handles with labels found to put in legend.\n",
            "No handles with labels found to put in legend.\n",
            "No handles with labels found to put in legend.\n",
            "No handles with labels found to put in legend.\n",
            "No handles with labels found to put in legend.\n",
            "No handles with labels found to put in legend.\n",
            "No handles with labels found to put in legend.\n",
            "No handles with labels found to put in legend.\n"
          ],
          "name": "stderr"
        },
        {
          "output_type": "display_data",
          "data": {
            "image/png": "[encoded data removed]",
            "text/plain": [
              "<Figure size 576x360 with 1 Axes>"
            ]
          },
          "metadata": {
            "tags": []
          }
        },
        {
          "output_type": "display_data",
          "data": {
            "image/png": "[encoded data removed]",
            "text/plain": [
              "<Figure size 576x360 with 1 Axes>"
            ]
          },
          "metadata": {
            "tags": []
          }
        },
        {
          "output_type": "display_data",
          "data": {
            "image/png": "[encoded data removed]",
            "text/plain": [
              "<Figure size 576x360 with 1 Axes>"
            ]
          },
          "metadata": {
            "tags": []
          }
        },
        {
          "output_type": "display_data",
          "data": {
            "image/png": "[encoded data removed]",
            "text/plain": [
              "<Figure size 576x360 with 1 Axes>"
            ]
          },
          "metadata": {
            "tags": []
          }
        },
        {
          "output_type": "display_data",
          "data": {
            "image/png": "[encoded data removed]",
            "text/plain": [
              "<Figure size 576x360 with 1 Axes>"
            ]
          },
          "metadata": {
            "tags": []
          }
        },
        {
          "output_type": "display_data",
          "data": {
            "image/png": "[encoded data removed]",
            "text/plain": [
              "<Figure size 576x360 with 1 Axes>"
            ]
          },
          "metadata": {
            "tags": []
          }
        },
        {
          "output_type": "display_data",
          "data": {
            "image/png": "[encoded data removed]",
            "text/plain": [
              "<Figure size 576x360 with 1 Axes>"
            ]
          },
          "metadata": {
            "tags": []
          }
        },
        {
          "output_type": "display_data",
          "data": {
            "image/png": "[encoded data removed]",
            "text/plain": [
              "<Figure size 576x360 with 1 Axes>"
            ]
          },
          "metadata": {
            "tags": []
          }
        },
        {
          "output_type": "display_data",
          "data": {
            "image/png": "[encoded data removed]",
            "text/plain": [
              "<Figure size 576x360 with 1 Axes>"
            ]
          },
          "metadata": {
            "tags": []
          }
        }
      ]
    },
    {
      "cell_type": "code",
      "metadata": {
        "id": "xgVnjkloArke",
        "colab_type": "code",
        "outputId": "db245fc9-d3df-45f8-fe42-a07865d77740",
        "colab": {
          "base_uri": "https://localhost:8080/",
          "height": 541
        }
      },
      "source": [
        "statm.graphics.gofplots.qqplot(numericdataX.iloc[:,6], line='r')"
      ],
      "execution_count": 0,
      "outputs": [
        {
          "output_type": "execute_result",
          "data": {
            "image/png": "[encoded data removed]",
            "text/plain": [
              "<Figure size 432x288 with 1 Axes>"
            ]
          },
          "metadata": {
            "tags": []
          },
          "execution_count": 20
        },
        {
          "output_type": "display_data",
          "data": {
            "image/png": "[encoded data removed]",
            "text/plain": [
              "<Figure size 432x288 with 1 Axes>"
            ]
          },
          "metadata": {
            "tags": []
          }
        }
      ]
    },
    {
      "cell_type": "code",
      "metadata": {
        "id": "678RijnxAypN",
        "colab_type": "code",
        "outputId": "bad83ac2-0ad8-4cb7-fe11-3319fda12aa6",
        "colab": {
          "base_uri": "https://localhost:8080/",
          "height": 541
        }
      },
      "source": [
        "statm.graphics.gofplots.qqplot(numericdataX.iloc[:,1], line='r')"
      ],
      "execution_count": 0,
      "outputs": [
        {
          "output_type": "execute_result",
          "data": {
            "image/png": "[encoded data removed]",
            "text/plain": [
              "<Figure size 432x288 with 1 Axes>"
            ]
          },
          "metadata": {
            "tags": []
          },
          "execution_count": 21
        },
        {
          "output_type": "display_data",
          "data": {
            "image/png": "[encoded data removed]",
            "text/plain": [
              "<Figure size 432x288 with 1 Axes>"
            ]
          },
          "metadata": {
            "tags": []
          }
        }
      ]
    },
    {
      "cell_type": "code",
      "metadata": {
        "id": "x_tmOzolA0e9",
        "colab_type": "code",
        "outputId": "25c14a00-0944-45f3-d2da-abf430225e3b",
        "colab": {
          "base_uri": "https://localhost:8080/",
          "height": 541
        }
      },
      "source": [
        "statm.graphics.gofplots.qqplot(numericdataX.iloc[:,9], line='r')"
      ],
      "execution_count": 0,
      "outputs": [
        {
          "output_type": "execute_result",
          "data": {
            "image/png": "[encoded data removed]",
            "text/plain": [
              "<Figure size 432x288 with 1 Axes>"
            ]
          },
          "metadata": {
            "tags": []
          },
          "execution_count": 22
        },
        {
          "output_type": "display_data",
          "data": {
            "image/png": "[encoded data removed]",
            "text/plain": [
              "<Figure size 432x288 with 1 Axes>"
            ]
          },
          "metadata": {
            "tags": []
          }
        }
      ]
    },
    {
      "cell_type": "code",
      "metadata": {
        "id": "7f4iWsV7A2-d",
        "colab_type": "code",
        "colab": {}
      },
      "source": [
        "#Linear Regression\n",
        "def checkCorrelation(data):\n",
        "    \"\"\"\n",
        "    Plot correlation Matrix for given data\n",
        "   :param data: dataset having features\n",
        "   :return: return plot representing pearson correlation\n",
        "   \"\"\"\n",
        "    plt.figure(figsize=(10, 10))\n",
        "    sns.heatmap(data.corr(),linewidths=0.25,vmax=1.0,square=True,cmap=\"BuGn_r\", \n",
        "    linecolor='w',annot=True)"
      ],
      "execution_count": 0,
      "outputs": []
    },
    {
      "cell_type": "code",
      "metadata": {
        "id": "c4eGmcGbA8od",
        "colab_type": "code",
        "colab": {}
      },
      "source": [
        "def data_model(xdata):\n",
        "    \"\"\"\n",
        "     fits linear regression model on given data\n",
        "    :param xdata: independent variable dataset\n",
        "    :return: linear regression model with fit of xdata \n",
        "   \"\"\"\n",
        "    #add constant to data\n",
        "    X = sm.add_constant(xdata)\n",
        "    targetY=filedata[['log_price']]\n",
        "    y = targetY\n",
        "\n",
        "    # Fit the linear model\n",
        "    model = linear_model.LinearRegression()\n",
        "    results = model.fit(X, y)\n",
        "    model = sm.OLS(y, X)\n",
        "    results = model.fit()\n",
        "    return results"
      ],
      "execution_count": 0,
      "outputs": []
    },
    {
      "cell_type": "code",
      "metadata": {
        "id": "nzjEP22IA-QM",
        "colab_type": "code",
        "colab": {}
      },
      "source": [
        "def data_summary(xdata):\n",
        "    \"\"\"\n",
        "    Returns chart having summary of data\n",
        "   :param xdata: independent variable dataset\n",
        "   :return: summary of data \n",
        "   \"\"\"\n",
        "    results = data_model(xdata)\n",
        "    return results.summary()"
      ],
      "execution_count": 0,
      "outputs": []
    },
    {
      "cell_type": "code",
      "metadata": {
        "id": "fRisr7twA_49",
        "colab_type": "code",
        "colab": {}
      },
      "source": [
        "def crossValidationError(data):\n",
        "    \"\"\"\n",
        "   Finds cross validation error of model\n",
        "   :param X: independent variable dataset\n",
        "   :return: float value returns mean squared error\n",
        "   \"\"\"\n",
        "    numericdataX=data\n",
        "    X = np.array(numericdataX.drop(['log_price'],axis=1), dtype=pd.Series)\n",
        "    Y = np.array(numericdataX['log_price'], dtype=pd.Series)\n",
        "    regr1 = linear_model.LinearRegression()\n",
        "    ms_errors= cross_val_score(regr1, X, Y, cv=5, scoring = make_scorer(mean_squared_error))\n",
        "    rms_errors = np.sqrt(ms_errors)\n",
        "    mean_rms_error = rms_errors.mean()\n",
        "    return mean_rms_error"
      ],
      "execution_count": 0,
      "outputs": []
    },
    {
      "cell_type": "code",
      "metadata": {
        "id": "vB4yhn9oBBqt",
        "colab_type": "code",
        "outputId": "98edd27b-3f00-4afb-8c3f-e47b007e201e",
        "colab": {
          "base_uri": "https://localhost:8080/",
          "height": 620
        }
      },
      "source": [
        "#Checking correlation in data\n",
        "checkCorrelation(numericdataX)"
      ],
      "execution_count": 0,
      "outputs": [
        {
          "output_type": "display_data",
          "data": {
            "image/png": "[encoded data removed]",
            "text/plain": [
              "<Figure size 720x720 with 2 Axes>"
            ]
          },
          "metadata": {
            "tags": []
          }
        }
      ]
    },
    {
      "cell_type": "code",
      "metadata": {
        "id": "qxrsshvnBEMN",
        "colab_type": "code",
        "colab": {}
      },
      "source": [
        "#So as per correlation matrix colums such as latitude, longitude, number_of_reviews and review_scores_rating are not making much impact on log_price\n",
        "#as valueof cirrelation is poor\n",
        "#lets drop them from our dataset\n",
        "numericdataX=numericdataX.drop(['id','number_of_reviews',\n",
        "       'review_scores_rating','latitude',\n",
        "       'longitude' ], axis=1)"
      ],
      "execution_count": 0,
      "outputs": []
    },
    {
      "cell_type": "code",
      "metadata": {
        "id": "TPuMYk_oBKwd",
        "colab_type": "code",
        "outputId": "8a6c6c2c-ac6a-465f-e03a-01fa576e6aa2",
        "colab": {
          "base_uri": "https://localhost:8080/",
          "height": 582
        }
      },
      "source": [
        "# buid model and check summary\n",
        "data_summary(numericdataX)"
      ],
      "execution_count": 0,
      "outputs": [
        {
          "output_type": "stream",
          "text": [
            "/usr/local/lib/python3.6/dist-packages/numpy/core/fromnumeric.py:2389: FutureWarning: Method .ptp is deprecated and will be removed in a future version. Use numpy.ptp instead.\n",
            "  return ptp(axis=axis, out=out, **kwargs)\n"
          ],
          "name": "stderr"
        },
        {
          "output_type": "execute_result",
          "data": {
            "text/html": [
              "<table class=\"simpletable\">\n",
              "<caption>OLS Regression Results</caption>\n",
              "<tr>\n",
              "  <th>Dep. Variable:</th>        <td>log_price</td>    <th>  R-squared:         </th>  <td>   1.000</td> \n",
              "</tr>\n",
              "<tr>\n",
              "  <th>Model:</th>                   <td>OLS</td>       <th>  Adj. R-squared:    </th>  <td>   1.000</td> \n",
              "</tr>\n",
              "<tr>\n",
              "  <th>Method:</th>             <td>Least Squares</td>  <th>  F-statistic:       </th>  <td>1.577e+32</td>\n",
              "</tr>\n",
              "<tr>\n",
              "  <th>Date:</th>             <td>Wed, 23 Oct 2019</td> <th>  Prob (F-statistic):</th>   <td>  0.00</td>  \n",
              "</tr>\n",
              "<tr>\n",
              "  <th>Time:</th>                 <td>23:47:49</td>     <th>  Log-Likelihood:    </th> <td>2.3108e+06</td>\n",
              "</tr>\n",
              "<tr>\n",
              "  <th>No. Observations:</th>      <td> 74111</td>      <th>  AIC:               </th> <td>-4.622e+06</td>\n",
              "</tr>\n",
              "<tr>\n",
              "  <th>Df Residuals:</th>          <td> 74105</td>      <th>  BIC:               </th> <td>-4.622e+06</td>\n",
              "</tr>\n",
              "<tr>\n",
              "  <th>Df Model:</th>              <td>     5</td>      <th>                     </th>      <td> </td>    \n",
              "</tr>\n",
              "<tr>\n",
              "  <th>Covariance Type:</th>      <td>nonrobust</td>    <th>                     </th>      <td> </td>    \n",
              "</tr>\n",
              "</table>\n",
              "<table class=\"simpletable\">\n",
              "<tr>\n",
              "        <td></td>          <th>coef</th>     <th>std err</th>      <th>t</th>      <th>P>|t|</th>  <th>[0.025</th>    <th>0.975]</th>  \n",
              "</tr>\n",
              "<tr>\n",
              "  <th>const</th>        <td>  5.96e-16</td> <td> 1.89e-16</td> <td>    3.150</td> <td> 0.002</td> <td> 2.25e-16</td> <td> 9.67e-16</td>\n",
              "</tr>\n",
              "<tr>\n",
              "  <th>log_price</th>    <td>    1.0000</td> <td> 4.38e-17</td> <td> 2.28e+16</td> <td> 0.000</td> <td>    1.000</td> <td>    1.000</td>\n",
              "</tr>\n",
              "<tr>\n",
              "  <th>accommodates</th> <td>-1.506e-16</td> <td> 2.28e-17</td> <td>   -6.603</td> <td> 0.000</td> <td>-1.95e-16</td> <td>-1.06e-16</td>\n",
              "</tr>\n",
              "<tr>\n",
              "  <th>bathrooms</th>    <td>  1.42e-16</td> <td> 5.52e-17</td> <td>    2.575</td> <td> 0.010</td> <td> 3.39e-17</td> <td>  2.5e-16</td>\n",
              "</tr>\n",
              "<tr>\n",
              "  <th>bedrooms</th>     <td>  3.04e-16</td> <td> 4.78e-17</td> <td>    6.355</td> <td> 0.000</td> <td>  2.1e-16</td> <td> 3.98e-16</td>\n",
              "</tr>\n",
              "<tr>\n",
              "  <th>beds</th>         <td>-2.035e-16</td> <td> 3.71e-17</td> <td>   -5.482</td> <td> 0.000</td> <td>-2.76e-16</td> <td>-1.31e-16</td>\n",
              "</tr>\n",
              "</table>\n",
              "<table class=\"simpletable\">\n",
              "<tr>\n",
              "  <th>Omnibus:</th>       <td>3706.026</td> <th>  Durbin-Watson:     </th> <td>   0.067</td>\n",
              "</tr>\n",
              "<tr>\n",
              "  <th>Prob(Omnibus):</th>  <td> 0.000</td>  <th>  Jarque-Bera (JB):  </th> <td>4700.921</td>\n",
              "</tr>\n",
              "<tr>\n",
              "  <th>Skew:</th>           <td> 0.510</td>  <th>  Prob(JB):          </th> <td>    0.00</td>\n",
              "</tr>\n",
              "<tr>\n",
              "  <th>Kurtosis:</th>       <td> 3.695</td>  <th>  Cond. No.          </th> <td>    50.3</td>\n",
              "</tr>\n",
              "</table><br/><br/>Warnings:<br/>[1] Standard Errors assume that the covariance matrix of the errors is correctly specified."
            ],
            "text/plain": [
              "<class 'statsmodels.iolib.summary.Summary'>\n",
              "\"\"\"\n",
              "                            OLS Regression Results                            \n",
              "==============================================================================\n",
              "Dep. Variable:              log_price   R-squared:                       1.000\n",
              "Model:                            OLS   Adj. R-squared:                  1.000\n",
              "Method:                 Least Squares   F-statistic:                 1.577e+32\n",
              "Date:                Wed, 23 Oct 2019   Prob (F-statistic):               0.00\n",
              "Time:                        23:47:49   Log-Likelihood:             2.3108e+06\n",
              "No. Observations:               74111   AIC:                        -4.622e+06\n",
              "Df Residuals:                   74105   BIC:                        -4.622e+06\n",
              "Df Model:                           5                                         \n",
              "Covariance Type:            nonrobust                                         \n",
              "================================================================================\n",
              "                   coef    std err          t      P>|t|      [0.025      0.975]\n",
              "--------------------------------------------------------------------------------\n",
              "const          5.96e-16   1.89e-16      3.150      0.002    2.25e-16    9.67e-16\n",
              "log_price        1.0000   4.38e-17   2.28e+16      0.000       1.000       1.000\n",
              "accommodates -1.506e-16   2.28e-17     -6.603      0.000   -1.95e-16   -1.06e-16\n",
              "bathrooms      1.42e-16   5.52e-17      2.575      0.010    3.39e-17     2.5e-16\n",
              "bedrooms       3.04e-16   4.78e-17      6.355      0.000     2.1e-16    3.98e-16\n",
              "beds         -2.035e-16   3.71e-17     -5.482      0.000   -2.76e-16   -1.31e-16\n",
              "==============================================================================\n",
              "Omnibus:                     3706.026   Durbin-Watson:                   0.067\n",
              "Prob(Omnibus):                  0.000   Jarque-Bera (JB):             4700.921\n",
              "Skew:                           0.510   Prob(JB):                         0.00\n",
              "Kurtosis:                       3.695   Cond. No.                         50.3\n",
              "==============================================================================\n",
              "\n",
              "Warnings:\n",
              "[1] Standard Errors assume that the covariance matrix of the errors is correctly specified.\n",
              "\"\"\""
            ]
          },
          "metadata": {
            "tags": []
          },
          "execution_count": 31
        }
      ]
    },
    {
      "cell_type": "code",
      "metadata": {
        "id": "N0Uo9QyIBPUs",
        "colab_type": "code",
        "colab": {}
      },
      "source": [
        "# there is also correlation between bathroom and accomodates and bedroom lets only keep acomodates\n",
        "numericdataX = numericdataX.drop(['bathrooms','bedrooms','beds'], axis=1)"
      ],
      "execution_count": 0,
      "outputs": []
    },
    {
      "cell_type": "code",
      "metadata": {
        "id": "opIt5mkOBTD8",
        "colab_type": "code",
        "outputId": "8ba26f38-9917-4597-df00-fd2c3d237fe5",
        "colab": {
          "base_uri": "https://localhost:8080/",
          "height": 519
        }
      },
      "source": [
        "data_summary(numericdataX)"
      ],
      "execution_count": 0,
      "outputs": [
        {
          "output_type": "stream",
          "text": [
            "/usr/local/lib/python3.6/dist-packages/numpy/core/fromnumeric.py:2389: FutureWarning: Method .ptp is deprecated and will be removed in a future version. Use numpy.ptp instead.\n",
            "  return ptp(axis=axis, out=out, **kwargs)\n"
          ],
          "name": "stderr"
        },
        {
          "output_type": "execute_result",
          "data": {
            "text/html": [
              "<table class=\"simpletable\">\n",
              "<caption>OLS Regression Results</caption>\n",
              "<tr>\n",
              "  <th>Dep. Variable:</th>        <td>log_price</td>    <th>  R-squared:         </th>  <td>   1.000</td> \n",
              "</tr>\n",
              "<tr>\n",
              "  <th>Model:</th>                   <td>OLS</td>       <th>  Adj. R-squared:    </th>  <td>   1.000</td> \n",
              "</tr>\n",
              "<tr>\n",
              "  <th>Method:</th>             <td>Least Squares</td>  <th>  F-statistic:       </th>  <td>3.660e+32</td>\n",
              "</tr>\n",
              "<tr>\n",
              "  <th>Date:</th>             <td>Wed, 23 Oct 2019</td> <th>  Prob (F-statistic):</th>   <td>  0.00</td>  \n",
              "</tr>\n",
              "<tr>\n",
              "  <th>Time:</th>                 <td>23:48:09</td>     <th>  Log-Likelihood:    </th> <td>2.3081e+06</td>\n",
              "</tr>\n",
              "<tr>\n",
              "  <th>No. Observations:</th>      <td> 74111</td>      <th>  AIC:               </th> <td>-4.616e+06</td>\n",
              "</tr>\n",
              "<tr>\n",
              "  <th>Df Residuals:</th>          <td> 74108</td>      <th>  BIC:               </th> <td>-4.616e+06</td>\n",
              "</tr>\n",
              "<tr>\n",
              "  <th>Df Model:</th>              <td>     2</td>      <th>                     </th>      <td> </td>    \n",
              "</tr>\n",
              "<tr>\n",
              "  <th>Covariance Type:</th>      <td>nonrobust</td>    <th>                     </th>      <td> </td>    \n",
              "</tr>\n",
              "</table>\n",
              "<table class=\"simpletable\">\n",
              "<tr>\n",
              "        <td></td>          <th>coef</th>     <th>std err</th>      <th>t</th>      <th>P>|t|</th>  <th>[0.025</th>    <th>0.975]</th>  \n",
              "</tr>\n",
              "<tr>\n",
              "  <th>const</th>        <td>-8.484e-15</td> <td> 1.94e-16</td> <td>  -43.798</td> <td> 0.000</td> <td>-8.86e-15</td> <td> -8.1e-15</td>\n",
              "</tr>\n",
              "<tr>\n",
              "  <th>log_price</th>    <td>    1.0000</td> <td> 4.49e-17</td> <td> 2.23e+16</td> <td> 0.000</td> <td>    1.000</td> <td>    1.000</td>\n",
              "</tr>\n",
              "<tr>\n",
              "  <th>accommodates</th> <td>-1.863e-16</td> <td>  1.5e-17</td> <td>  -12.455</td> <td> 0.000</td> <td>-2.16e-16</td> <td>-1.57e-16</td>\n",
              "</tr>\n",
              "</table>\n",
              "<table class=\"simpletable\">\n",
              "<tr>\n",
              "  <th>Omnibus:</th>       <td>3562.244</td> <th>  Durbin-Watson:     </th> <td>   0.011</td>\n",
              "</tr>\n",
              "<tr>\n",
              "  <th>Prob(Omnibus):</th>  <td> 0.000</td>  <th>  Jarque-Bera (JB):  </th> <td>5412.252</td>\n",
              "</tr>\n",
              "<tr>\n",
              "  <th>Skew:</th>           <td> 0.433</td>  <th>  Prob(JB):          </th> <td>    0.00</td>\n",
              "</tr>\n",
              "<tr>\n",
              "  <th>Kurtosis:</th>       <td> 4.001</td>  <th>  Cond. No.          </th> <td>    45.2</td>\n",
              "</tr>\n",
              "</table><br/><br/>Warnings:<br/>[1] Standard Errors assume that the covariance matrix of the errors is correctly specified."
            ],
            "text/plain": [
              "<class 'statsmodels.iolib.summary.Summary'>\n",
              "\"\"\"\n",
              "                            OLS Regression Results                            \n",
              "==============================================================================\n",
              "Dep. Variable:              log_price   R-squared:                       1.000\n",
              "Model:                            OLS   Adj. R-squared:                  1.000\n",
              "Method:                 Least Squares   F-statistic:                 3.660e+32\n",
              "Date:                Wed, 23 Oct 2019   Prob (F-statistic):               0.00\n",
              "Time:                        23:48:09   Log-Likelihood:             2.3081e+06\n",
              "No. Observations:               74111   AIC:                        -4.616e+06\n",
              "Df Residuals:                   74108   BIC:                        -4.616e+06\n",
              "Df Model:                           2                                         \n",
              "Covariance Type:            nonrobust                                         \n",
              "================================================================================\n",
              "                   coef    std err          t      P>|t|      [0.025      0.975]\n",
              "--------------------------------------------------------------------------------\n",
              "const        -8.484e-15   1.94e-16    -43.798      0.000   -8.86e-15    -8.1e-15\n",
              "log_price        1.0000   4.49e-17   2.23e+16      0.000       1.000       1.000\n",
              "accommodates -1.863e-16    1.5e-17    -12.455      0.000   -2.16e-16   -1.57e-16\n",
              "==============================================================================\n",
              "Omnibus:                     3562.244   Durbin-Watson:                   0.011\n",
              "Prob(Omnibus):                  0.000   Jarque-Bera (JB):             5412.252\n",
              "Skew:                           0.433   Prob(JB):                         0.00\n",
              "Kurtosis:                       4.001   Cond. No.                         45.2\n",
              "==============================================================================\n",
              "\n",
              "Warnings:\n",
              "[1] Standard Errors assume that the covariance matrix of the errors is correctly specified.\n",
              "\"\"\""
            ]
          },
          "metadata": {
            "tags": []
          },
          "execution_count": 33
        }
      ]
    },
    {
      "cell_type": "code",
      "metadata": {
        "id": "gJirAh36BUWs",
        "colab_type": "code",
        "outputId": "6154e669-d1a8-40dd-f230-0d11606f2654",
        "colab": {
          "base_uri": "https://localhost:8080/",
          "height": 34
        }
      },
      "source": [
        "crossValidationError(numericdataX)"
      ],
      "execution_count": 0,
      "outputs": [
        {
          "output_type": "execute_result",
          "data": {
            "text/plain": [
              "0.5906434455693735"
            ]
          },
          "metadata": {
            "tags": []
          },
          "execution_count": 34
        }
      ]
    },
    {
      "cell_type": "code",
      "metadata": {
        "id": "0Ra9BFC-BWws",
        "colab_type": "code",
        "outputId": "8ec6f389-47c8-4c42-b8ac-cc161c96829d",
        "colab": {
          "base_uri": "https://localhost:8080/",
          "height": 85
        }
      },
      "source": [
        "#Handing Categorical Variables\n",
        "filedata.room_type.value_counts()"
      ],
      "execution_count": 0,
      "outputs": [
        {
          "output_type": "execute_result",
          "data": {
            "text/plain": [
              "Entire home/apt    41310\n",
              "Private room       30638\n",
              "Shared room         2163\n",
              "Name: room_type, dtype: int64"
            ]
          },
          "metadata": {
            "tags": []
          },
          "execution_count": 35
        }
      ]
    },
    {
      "cell_type": "code",
      "metadata": {
        "id": "hebbXzAeBccs",
        "colab_type": "code",
        "colab": {}
      },
      "source": [
        "#creating dummy variable for column room_type\n",
        "numericdataX=pd.concat([numericdataX,filedata['room_type']], axis=1)\n",
        "numericdataX=pd.get_dummies(numericdataX,columns= ['room_type'],drop_first=True)"
      ],
      "execution_count": 0,
      "outputs": []
    },
    {
      "cell_type": "code",
      "metadata": {
        "id": "BHWzy65CBeP8",
        "colab_type": "code",
        "outputId": "36c682e4-d357-466b-d5c8-ecfeda02e693",
        "colab": {
          "base_uri": "https://localhost:8080/",
          "height": 1000
        }
      },
      "source": [
        "numericdataX"
      ],
      "execution_count": 0,
      "outputs": [
        {
          "output_type": "execute_result",
          "data": {
            "text/html": [
              "<div>\n",
              "<style scoped>\n",
              "    .dataframe tbody tr th:only-of-type {\n",
              "        vertical-align: middle;\n",
              "    }\n",
              "\n",
              "    .dataframe tbody tr th {\n",
              "        vertical-align: top;\n",
              "    }\n",
              "\n",
              "    .dataframe thead th {\n",
              "        text-align: right;\n",
              "    }\n",
              "</style>\n",
              "<table border=\"1\" class=\"dataframe\">\n",
              "  <thead>\n",
              "    <tr style=\"text-align: right;\">\n",
              "      <th></th>\n",
              "      <th>log_price</th>\n",
              "      <th>accommodates</th>\n",
              "      <th>room_type_Private room</th>\n",
              "      <th>room_type_Shared room</th>\n",
              "    </tr>\n",
              "  </thead>\n",
              "  <tbody>\n",
              "    <tr>\n",
              "      <th>0</th>\n",
              "      <td>5.010635</td>\n",
              "      <td>3</td>\n",
              "      <td>0</td>\n",
              "      <td>0</td>\n",
              "    </tr>\n",
              "    <tr>\n",
              "      <th>1</th>\n",
              "      <td>5.129899</td>\n",
              "      <td>7</td>\n",
              "      <td>0</td>\n",
              "      <td>0</td>\n",
              "    </tr>\n",
              "    <tr>\n",
              "      <th>2</th>\n",
              "      <td>4.976734</td>\n",
              "      <td>5</td>\n",
              "      <td>0</td>\n",
              "      <td>0</td>\n",
              "    </tr>\n",
              "    <tr>\n",
              "      <th>3</th>\n",
              "      <td>6.620073</td>\n",
              "      <td>4</td>\n",
              "      <td>0</td>\n",
              "      <td>0</td>\n",
              "    </tr>\n",
              "    <tr>\n",
              "      <th>4</th>\n",
              "      <td>4.744932</td>\n",
              "      <td>2</td>\n",
              "      <td>0</td>\n",
              "      <td>0</td>\n",
              "    </tr>\n",
              "    <tr>\n",
              "      <th>5</th>\n",
              "      <td>4.442651</td>\n",
              "      <td>2</td>\n",
              "      <td>1</td>\n",
              "      <td>0</td>\n",
              "    </tr>\n",
              "    <tr>\n",
              "      <th>6</th>\n",
              "      <td>4.418841</td>\n",
              "      <td>3</td>\n",
              "      <td>0</td>\n",
              "      <td>0</td>\n",
              "    </tr>\n",
              "    <tr>\n",
              "      <th>7</th>\n",
              "      <td>4.787492</td>\n",
              "      <td>2</td>\n",
              "      <td>0</td>\n",
              "      <td>0</td>\n",
              "    </tr>\n",
              "    <tr>\n",
              "      <th>8</th>\n",
              "      <td>4.787492</td>\n",
              "      <td>2</td>\n",
              "      <td>1</td>\n",
              "      <td>0</td>\n",
              "    </tr>\n",
              "    <tr>\n",
              "      <th>9</th>\n",
              "      <td>3.583519</td>\n",
              "      <td>2</td>\n",
              "      <td>1</td>\n",
              "      <td>0</td>\n",
              "    </tr>\n",
              "    <tr>\n",
              "      <th>10</th>\n",
              "      <td>4.605170</td>\n",
              "      <td>2</td>\n",
              "      <td>1</td>\n",
              "      <td>0</td>\n",
              "    </tr>\n",
              "    <tr>\n",
              "      <th>11</th>\n",
              "      <td>5.010635</td>\n",
              "      <td>4</td>\n",
              "      <td>0</td>\n",
              "      <td>0</td>\n",
              "    </tr>\n",
              "    <tr>\n",
              "      <th>12</th>\n",
              "      <td>4.248495</td>\n",
              "      <td>2</td>\n",
              "      <td>1</td>\n",
              "      <td>0</td>\n",
              "    </tr>\n",
              "    <tr>\n",
              "      <th>13</th>\n",
              "      <td>5.298317</td>\n",
              "      <td>6</td>\n",
              "      <td>0</td>\n",
              "      <td>0</td>\n",
              "    </tr>\n",
              "    <tr>\n",
              "      <th>14</th>\n",
              "      <td>4.955827</td>\n",
              "      <td>2</td>\n",
              "      <td>0</td>\n",
              "      <td>0</td>\n",
              "    </tr>\n",
              "    <tr>\n",
              "      <th>15</th>\n",
              "      <td>4.094345</td>\n",
              "      <td>2</td>\n",
              "      <td>1</td>\n",
              "      <td>0</td>\n",
              "    </tr>\n",
              "    <tr>\n",
              "      <th>16</th>\n",
              "      <td>4.317488</td>\n",
              "      <td>2</td>\n",
              "      <td>1</td>\n",
              "      <td>0</td>\n",
              "    </tr>\n",
              "    <tr>\n",
              "      <th>17</th>\n",
              "      <td>4.595120</td>\n",
              "      <td>2</td>\n",
              "      <td>1</td>\n",
              "      <td>0</td>\n",
              "    </tr>\n",
              "    <tr>\n",
              "      <th>18</th>\n",
              "      <td>4.882802</td>\n",
              "      <td>2</td>\n",
              "      <td>0</td>\n",
              "      <td>0</td>\n",
              "    </tr>\n",
              "    <tr>\n",
              "      <th>19</th>\n",
              "      <td>4.595120</td>\n",
              "      <td>8</td>\n",
              "      <td>0</td>\n",
              "      <td>0</td>\n",
              "    </tr>\n",
              "    <tr>\n",
              "      <th>20</th>\n",
              "      <td>4.382027</td>\n",
              "      <td>2</td>\n",
              "      <td>1</td>\n",
              "      <td>0</td>\n",
              "    </tr>\n",
              "    <tr>\n",
              "      <th>21</th>\n",
              "      <td>3.688879</td>\n",
              "      <td>2</td>\n",
              "      <td>1</td>\n",
              "      <td>0</td>\n",
              "    </tr>\n",
              "    <tr>\n",
              "      <th>22</th>\n",
              "      <td>4.905275</td>\n",
              "      <td>4</td>\n",
              "      <td>0</td>\n",
              "      <td>0</td>\n",
              "    </tr>\n",
              "    <tr>\n",
              "      <th>23</th>\n",
              "      <td>4.007333</td>\n",
              "      <td>2</td>\n",
              "      <td>1</td>\n",
              "      <td>0</td>\n",
              "    </tr>\n",
              "    <tr>\n",
              "      <th>24</th>\n",
              "      <td>6.956545</td>\n",
              "      <td>4</td>\n",
              "      <td>0</td>\n",
              "      <td>0</td>\n",
              "    </tr>\n",
              "    <tr>\n",
              "      <th>25</th>\n",
              "      <td>5.003946</td>\n",
              "      <td>6</td>\n",
              "      <td>0</td>\n",
              "      <td>0</td>\n",
              "    </tr>\n",
              "    <tr>\n",
              "      <th>26</th>\n",
              "      <td>4.553877</td>\n",
              "      <td>2</td>\n",
              "      <td>0</td>\n",
              "      <td>0</td>\n",
              "    </tr>\n",
              "    <tr>\n",
              "      <th>27</th>\n",
              "      <td>5.003946</td>\n",
              "      <td>4</td>\n",
              "      <td>0</td>\n",
              "      <td>0</td>\n",
              "    </tr>\n",
              "    <tr>\n",
              "      <th>28</th>\n",
              "      <td>5.192957</td>\n",
              "      <td>3</td>\n",
              "      <td>0</td>\n",
              "      <td>0</td>\n",
              "    </tr>\n",
              "    <tr>\n",
              "      <th>29</th>\n",
              "      <td>4.653960</td>\n",
              "      <td>3</td>\n",
              "      <td>1</td>\n",
              "      <td>0</td>\n",
              "    </tr>\n",
              "    <tr>\n",
              "      <th>...</th>\n",
              "      <td>...</td>\n",
              "      <td>...</td>\n",
              "      <td>...</td>\n",
              "      <td>...</td>\n",
              "    </tr>\n",
              "    <tr>\n",
              "      <th>74081</th>\n",
              "      <td>6.907755</td>\n",
              "      <td>16</td>\n",
              "      <td>0</td>\n",
              "      <td>0</td>\n",
              "    </tr>\n",
              "    <tr>\n",
              "      <th>74082</th>\n",
              "      <td>4.174387</td>\n",
              "      <td>1</td>\n",
              "      <td>1</td>\n",
              "      <td>0</td>\n",
              "    </tr>\n",
              "    <tr>\n",
              "      <th>74083</th>\n",
              "      <td>5.010635</td>\n",
              "      <td>2</td>\n",
              "      <td>1</td>\n",
              "      <td>0</td>\n",
              "    </tr>\n",
              "    <tr>\n",
              "      <th>74084</th>\n",
              "      <td>5.843544</td>\n",
              "      <td>4</td>\n",
              "      <td>0</td>\n",
              "      <td>0</td>\n",
              "    </tr>\n",
              "    <tr>\n",
              "      <th>74085</th>\n",
              "      <td>4.653960</td>\n",
              "      <td>2</td>\n",
              "      <td>0</td>\n",
              "      <td>0</td>\n",
              "    </tr>\n",
              "    <tr>\n",
              "      <th>74086</th>\n",
              "      <td>4.174387</td>\n",
              "      <td>2</td>\n",
              "      <td>1</td>\n",
              "      <td>0</td>\n",
              "    </tr>\n",
              "    <tr>\n",
              "      <th>74087</th>\n",
              "      <td>4.477337</td>\n",
              "      <td>4</td>\n",
              "      <td>0</td>\n",
              "      <td>0</td>\n",
              "    </tr>\n",
              "    <tr>\n",
              "      <th>74088</th>\n",
              "      <td>4.905275</td>\n",
              "      <td>5</td>\n",
              "      <td>0</td>\n",
              "      <td>0</td>\n",
              "    </tr>\n",
              "    <tr>\n",
              "      <th>74089</th>\n",
              "      <td>4.605170</td>\n",
              "      <td>2</td>\n",
              "      <td>1</td>\n",
              "      <td>0</td>\n",
              "    </tr>\n",
              "    <tr>\n",
              "      <th>74090</th>\n",
              "      <td>4.317488</td>\n",
              "      <td>2</td>\n",
              "      <td>1</td>\n",
              "      <td>0</td>\n",
              "    </tr>\n",
              "    <tr>\n",
              "      <th>74091</th>\n",
              "      <td>5.010635</td>\n",
              "      <td>2</td>\n",
              "      <td>0</td>\n",
              "      <td>0</td>\n",
              "    </tr>\n",
              "    <tr>\n",
              "      <th>74092</th>\n",
              "      <td>4.700480</td>\n",
              "      <td>4</td>\n",
              "      <td>0</td>\n",
              "      <td>0</td>\n",
              "    </tr>\n",
              "    <tr>\n",
              "      <th>74093</th>\n",
              "      <td>4.948760</td>\n",
              "      <td>4</td>\n",
              "      <td>0</td>\n",
              "      <td>0</td>\n",
              "    </tr>\n",
              "    <tr>\n",
              "      <th>74094</th>\n",
              "      <td>3.688879</td>\n",
              "      <td>2</td>\n",
              "      <td>1</td>\n",
              "      <td>0</td>\n",
              "    </tr>\n",
              "    <tr>\n",
              "      <th>74095</th>\n",
              "      <td>4.382027</td>\n",
              "      <td>2</td>\n",
              "      <td>0</td>\n",
              "      <td>0</td>\n",
              "    </tr>\n",
              "    <tr>\n",
              "      <th>74096</th>\n",
              "      <td>3.912023</td>\n",
              "      <td>2</td>\n",
              "      <td>1</td>\n",
              "      <td>0</td>\n",
              "    </tr>\n",
              "    <tr>\n",
              "      <th>74097</th>\n",
              "      <td>4.700480</td>\n",
              "      <td>2</td>\n",
              "      <td>1</td>\n",
              "      <td>0</td>\n",
              "    </tr>\n",
              "    <tr>\n",
              "      <th>74098</th>\n",
              "      <td>4.553877</td>\n",
              "      <td>4</td>\n",
              "      <td>0</td>\n",
              "      <td>0</td>\n",
              "    </tr>\n",
              "    <tr>\n",
              "      <th>74099</th>\n",
              "      <td>4.276666</td>\n",
              "      <td>2</td>\n",
              "      <td>1</td>\n",
              "      <td>0</td>\n",
              "    </tr>\n",
              "    <tr>\n",
              "      <th>74100</th>\n",
              "      <td>4.605170</td>\n",
              "      <td>2</td>\n",
              "      <td>1</td>\n",
              "      <td>0</td>\n",
              "    </tr>\n",
              "    <tr>\n",
              "      <th>74101</th>\n",
              "      <td>4.584967</td>\n",
              "      <td>1</td>\n",
              "      <td>1</td>\n",
              "      <td>0</td>\n",
              "    </tr>\n",
              "    <tr>\n",
              "      <th>74102</th>\n",
              "      <td>4.110874</td>\n",
              "      <td>10</td>\n",
              "      <td>0</td>\n",
              "      <td>1</td>\n",
              "    </tr>\n",
              "    <tr>\n",
              "      <th>74103</th>\n",
              "      <td>5.135798</td>\n",
              "      <td>2</td>\n",
              "      <td>0</td>\n",
              "      <td>0</td>\n",
              "    </tr>\n",
              "    <tr>\n",
              "      <th>74104</th>\n",
              "      <td>4.356709</td>\n",
              "      <td>2</td>\n",
              "      <td>0</td>\n",
              "      <td>0</td>\n",
              "    </tr>\n",
              "    <tr>\n",
              "      <th>74105</th>\n",
              "      <td>4.248495</td>\n",
              "      <td>2</td>\n",
              "      <td>1</td>\n",
              "      <td>0</td>\n",
              "    </tr>\n",
              "    <tr>\n",
              "      <th>74106</th>\n",
              "      <td>4.605170</td>\n",
              "      <td>1</td>\n",
              "      <td>1</td>\n",
              "      <td>0</td>\n",
              "    </tr>\n",
              "    <tr>\n",
              "      <th>74107</th>\n",
              "      <td>5.043425</td>\n",
              "      <td>4</td>\n",
              "      <td>0</td>\n",
              "      <td>0</td>\n",
              "    </tr>\n",
              "    <tr>\n",
              "      <th>74108</th>\n",
              "      <td>5.220356</td>\n",
              "      <td>5</td>\n",
              "      <td>0</td>\n",
              "      <td>0</td>\n",
              "    </tr>\n",
              "    <tr>\n",
              "      <th>74109</th>\n",
              "      <td>5.273000</td>\n",
              "      <td>2</td>\n",
              "      <td>0</td>\n",
              "      <td>0</td>\n",
              "    </tr>\n",
              "    <tr>\n",
              "      <th>74110</th>\n",
              "      <td>4.852030</td>\n",
              "      <td>4</td>\n",
              "      <td>0</td>\n",
              "      <td>0</td>\n",
              "    </tr>\n",
              "  </tbody>\n",
              "</table>\n",
              "<p>74111 rows × 4 columns</p>\n",
              "</div>"
            ],
            "text/plain": [
              "       log_price  accommodates  room_type_Private room  room_type_Shared room\n",
              "0       5.010635             3                       0                      0\n",
              "1       5.129899             7                       0                      0\n",
              "2       4.976734             5                       0                      0\n",
              "3       6.620073             4                       0                      0\n",
              "4       4.744932             2                       0                      0\n",
              "5       4.442651             2                       1                      0\n",
              "6       4.418841             3                       0                      0\n",
              "7       4.787492             2                       0                      0\n",
              "8       4.787492             2                       1                      0\n",
              "9       3.583519             2                       1                      0\n",
              "10      4.605170             2                       1                      0\n",
              "11      5.010635             4                       0                      0\n",
              "12      4.248495             2                       1                      0\n",
              "13      5.298317             6                       0                      0\n",
              "14      4.955827             2                       0                      0\n",
              "15      4.094345             2                       1                      0\n",
              "16      4.317488             2                       1                      0\n",
              "17      4.595120             2                       1                      0\n",
              "18      4.882802             2                       0                      0\n",
              "19      4.595120             8                       0                      0\n",
              "20      4.382027             2                       1                      0\n",
              "21      3.688879             2                       1                      0\n",
              "22      4.905275             4                       0                      0\n",
              "23      4.007333             2                       1                      0\n",
              "24      6.956545             4                       0                      0\n",
              "25      5.003946             6                       0                      0\n",
              "26      4.553877             2                       0                      0\n",
              "27      5.003946             4                       0                      0\n",
              "28      5.192957             3                       0                      0\n",
              "29      4.653960             3                       1                      0\n",
              "...          ...           ...                     ...                    ...\n",
              "74081   6.907755            16                       0                      0\n",
              "74082   4.174387             1                       1                      0\n",
              "74083   5.010635             2                       1                      0\n",
              "74084   5.843544             4                       0                      0\n",
              "74085   4.653960             2                       0                      0\n",
              "74086   4.174387             2                       1                      0\n",
              "74087   4.477337             4                       0                      0\n",
              "74088   4.905275             5                       0                      0\n",
              "74089   4.605170             2                       1                      0\n",
              "74090   4.317488             2                       1                      0\n",
              "74091   5.010635             2                       0                      0\n",
              "74092   4.700480             4                       0                      0\n",
              "74093   4.948760             4                       0                      0\n",
              "74094   3.688879             2                       1                      0\n",
              "74095   4.382027             2                       0                      0\n",
              "74096   3.912023             2                       1                      0\n",
              "74097   4.700480             2                       1                      0\n",
              "74098   4.553877             4                       0                      0\n",
              "74099   4.276666             2                       1                      0\n",
              "74100   4.605170             2                       1                      0\n",
              "74101   4.584967             1                       1                      0\n",
              "74102   4.110874            10                       0                      1\n",
              "74103   5.135798             2                       0                      0\n",
              "74104   4.356709             2                       0                      0\n",
              "74105   4.248495             2                       1                      0\n",
              "74106   4.605170             1                       1                      0\n",
              "74107   5.043425             4                       0                      0\n",
              "74108   5.220356             5                       0                      0\n",
              "74109   5.273000             2                       0                      0\n",
              "74110   4.852030             4                       0                      0\n",
              "\n",
              "[74111 rows x 4 columns]"
            ]
          },
          "metadata": {
            "tags": []
          },
          "execution_count": 37
        }
      ]
    },
    {
      "cell_type": "code",
      "metadata": {
        "id": "olYKdY-iBftM",
        "colab_type": "code",
        "outputId": "55a0fbf0-3667-4725-faf2-16a2297af671",
        "colab": {
          "base_uri": "https://localhost:8080/",
          "height": 119
        }
      },
      "source": [
        "filedata.bed_type.value_counts()"
      ],
      "execution_count": 0,
      "outputs": [
        {
          "output_type": "execute_result",
          "data": {
            "text/plain": [
              "Real Bed         72028\n",
              "Futon              753\n",
              "Pull-out Sofa      585\n",
              "Airbed             477\n",
              "Couch              268\n",
              "Name: bed_type, dtype: int64"
            ]
          },
          "metadata": {
            "tags": []
          },
          "execution_count": 38
        }
      ]
    },
    {
      "cell_type": "code",
      "metadata": {
        "id": "O3jfupDTBh_8",
        "colab_type": "code",
        "colab": {}
      },
      "source": [
        "numericdataX=pd.concat([numericdataX,filedata['bed_type']], axis=1)\n",
        "numericdataX=pd.get_dummies(numericdataX,columns=['bed_type'],drop_first=True)"
      ],
      "execution_count": 0,
      "outputs": []
    },
    {
      "cell_type": "code",
      "metadata": {
        "id": "qdeym3haBkS7",
        "colab_type": "code",
        "outputId": "75bbc017-a6fc-4e9a-b797-1ea0dbaa3a17",
        "colab": {
          "base_uri": "https://localhost:8080/",
          "height": 119
        }
      },
      "source": [
        "filedata.cancellation_policy.value_counts()"
      ],
      "execution_count": 0,
      "outputs": [
        {
          "output_type": "execute_result",
          "data": {
            "text/plain": [
              "strict             32374\n",
              "flexible           22545\n",
              "moderate           19063\n",
              "super_strict_30      112\n",
              "super_strict_60       17\n",
              "Name: cancellation_policy, dtype: int64"
            ]
          },
          "metadata": {
            "tags": []
          },
          "execution_count": 40
        }
      ]
    },
    {
      "cell_type": "code",
      "metadata": {
        "id": "vAVYTQA3BmGc",
        "colab_type": "code",
        "colab": {}
      },
      "source": [
        "numericdataX=pd.concat([numericdataX,filedata['cancellation_policy']], axis=1)\n",
        "numericdataX=pd.get_dummies(numericdataX,columns=['cancellation_policy'],drop_first=True)"
      ],
      "execution_count": 0,
      "outputs": []
    },
    {
      "cell_type": "code",
      "metadata": {
        "id": "F5TU5XVKBnrc",
        "colab_type": "code",
        "outputId": "8cc42034-6475-4e41-b30e-9f1d9fc4a056",
        "colab": {
          "base_uri": "https://localhost:8080/",
          "height": 136
        }
      },
      "source": [
        "filedata.city.value_counts()"
      ],
      "execution_count": 0,
      "outputs": [
        {
          "output_type": "execute_result",
          "data": {
            "text/plain": [
              "NYC        32349\n",
              "LA         22453\n",
              "SF          6434\n",
              "DC          5688\n",
              "Chicago     3719\n",
              "Boston      3468\n",
              "Name: city, dtype: int64"
            ]
          },
          "metadata": {
            "tags": []
          },
          "execution_count": 42
        }
      ]
    },
    {
      "cell_type": "code",
      "metadata": {
        "id": "SPFYTjC6Bo6L",
        "colab_type": "code",
        "colab": {}
      },
      "source": [
        "numericdataX=pd.concat([numericdataX,filedata['city']], axis=1)\n",
        "numericdataX=pd.get_dummies(numericdataX,columns=['city'],drop_first=True)"
      ],
      "execution_count": 0,
      "outputs": []
    },
    {
      "cell_type": "code",
      "metadata": {
        "id": "qiSKzapNBqWL",
        "colab_type": "code",
        "colab": {}
      },
      "source": [
        "filedata.instant_bookable.value_counts()\n",
        "numericdataX=pd.concat([numericdataX,filedata['instant_bookable']], axis=1)\n",
        "numericdataX=pd.get_dummies(numericdataX,columns=['instant_bookable'],drop_first=True)"
      ],
      "execution_count": 0,
      "outputs": []
    },
    {
      "cell_type": "code",
      "metadata": {
        "id": "aHJg3H6HBsLL",
        "colab_type": "code",
        "colab": {}
      },
      "source": [
        ""
      ],
      "execution_count": 0,
      "outputs": []
    }
  ]
}