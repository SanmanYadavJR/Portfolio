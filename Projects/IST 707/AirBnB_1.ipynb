{
  "nbformat": 4,
  "nbformat_minor": 0,
  "metadata": {
    "colab": {
      "name": "AirBnB_1.ipynb",
      "provenance": [],
      "collapsed_sections": []
    },
    "kernelspec": {
      "name": "python3",
      "display_name": "Python 3"
    }
  },
  "cells": [
    {
      "cell_type": "code",
      "metadata": {
        "id": "b-WfyZE_qXAY",
        "colab_type": "code",
        "colab": {}
      },
      "source": [
        "import pandas as pd\n",
        "import numpy as np\n",
        "\n",
        "import matplotlib.pyplot as plt\n",
        "import seaborn as sns\n",
        "import time\n",
        "\n",
        "from sklearn.pipeline import Pipeline, FeatureUnion, make_pipeline\n",
        "from sklearn.preprocessing import PolynomialFeatures,MaxAbsScaler, MinMaxScaler, FunctionTransformer, OneHotEncoder, KBinsDiscretizer\n",
        "from sklearn.decomposition import PCA, TruncatedSVD\n",
        "from sklearn.base import BaseEstimator,TransformerMixin\n",
        "from sklearn.feature_selection import VarianceThreshold\n",
        "from sklearn.impute import SimpleImputer\n",
        "from sklearn.preprocessing import OneHotEncoder\n",
        "from sklearn.feature_extraction.text import CountVectorizer \n",
        "\n",
        "from sklearn.model_selection import cross_val_score, train_test_split as split\n",
        "\n",
        "from sklearn.neighbors import KNeighborsRegressor as KNNR\n",
        "from sklearn.tree import DecisionTreeRegressor\n",
        "from sklearn.linear_model import LinearRegression\n",
        "from sklearn.ensemble import RandomForestRegressor, RandomTreesEmbedding\n",
        "\n",
        "from sklearn.metrics import roc_curve, mean_absolute_error, make_scorer\n",
        "\n",
        "import warnings\n",
        "warnings.filterwarnings('ignore')"
      ],
      "execution_count": 0,
      "outputs": []
    },
    {
      "cell_type": "code",
      "metadata": {
        "id": "B9QhAap5rAYp",
        "colab_type": "code",
        "colab": {}
      },
      "source": [
        "data = pd.read_csv(\"train.csv\")"
      ],
      "execution_count": 0,
      "outputs": []
    },
    {
      "cell_type": "code",
      "metadata": {
        "id": "L_qihla8rXP1",
        "colab_type": "code",
        "outputId": "b0f12689-48f5-45e2-eed8-c281b14dbe3a",
        "colab": {
          "base_uri": "https://localhost:8080/",
          "height": 551
        }
      },
      "source": [
        "data.head()"
      ],
      "execution_count": 0,
      "outputs": [
        {
          "output_type": "execute_result",
          "data": {
            "text/html": [
              "<div>\n",
              "<style scoped>\n",
              "    .dataframe tbody tr th:only-of-type {\n",
              "        vertical-align: middle;\n",
              "    }\n",
              "\n",
              "    .dataframe tbody tr th {\n",
              "        vertical-align: top;\n",
              "    }\n",
              "\n",
              "    .dataframe thead th {\n",
              "        text-align: right;\n",
              "    }\n",
              "</style>\n",
              "<table border=\"1\" class=\"dataframe\">\n",
              "  <thead>\n",
              "    <tr style=\"text-align: right;\">\n",
              "      <th></th>\n",
              "      <th>id</th>\n",
              "      <th>log_price</th>\n",
              "      <th>property_type</th>\n",
              "      <th>room_type</th>\n",
              "      <th>amenities</th>\n",
              "      <th>accommodates</th>\n",
              "      <th>bathrooms</th>\n",
              "      <th>bed_type</th>\n",
              "      <th>cancellation_policy</th>\n",
              "      <th>cleaning_fee</th>\n",
              "      <th>city</th>\n",
              "      <th>description</th>\n",
              "      <th>first_review</th>\n",
              "      <th>host_has_profile_pic</th>\n",
              "      <th>host_identity_verified</th>\n",
              "      <th>host_response_rate</th>\n",
              "      <th>host_since</th>\n",
              "      <th>instant_bookable</th>\n",
              "      <th>last_review</th>\n",
              "      <th>latitude</th>\n",
              "      <th>longitude</th>\n",
              "      <th>name</th>\n",
              "      <th>neighbourhood</th>\n",
              "      <th>number_of_reviews</th>\n",
              "      <th>review_scores_rating</th>\n",
              "      <th>thumbnail_url</th>\n",
              "      <th>zipcode</th>\n",
              "      <th>bedrooms</th>\n",
              "      <th>beds</th>\n",
              "    </tr>\n",
              "  </thead>\n",
              "  <tbody>\n",
              "    <tr>\n",
              "      <th>0</th>\n",
              "      <td>6901257</td>\n",
              "      <td>5.010635</td>\n",
              "      <td>Apartment</td>\n",
              "      <td>Entire home/apt</td>\n",
              "      <td>{\"Wireless Internet\",\"Air conditioning\",Kitche...</td>\n",
              "      <td>3</td>\n",
              "      <td>1.0</td>\n",
              "      <td>Real Bed</td>\n",
              "      <td>strict</td>\n",
              "      <td>True</td>\n",
              "      <td>NYC</td>\n",
              "      <td>Beautiful, sunlit brownstone 1-bedroom in the ...</td>\n",
              "      <td>2016-06-18</td>\n",
              "      <td>t</td>\n",
              "      <td>t</td>\n",
              "      <td>NaN</td>\n",
              "      <td>2012-03-26</td>\n",
              "      <td>f</td>\n",
              "      <td>2016-07-18</td>\n",
              "      <td>40.696524</td>\n",
              "      <td>-73.991617</td>\n",
              "      <td>Beautiful brownstone 1-bedroom</td>\n",
              "      <td>Brooklyn Heights</td>\n",
              "      <td>2</td>\n",
              "      <td>100.0</td>\n",
              "      <td>https://a0.muscache.com/im/pictures/6d7cbbf7-c...</td>\n",
              "      <td>11201</td>\n",
              "      <td>1.0</td>\n",
              "      <td>1.0</td>\n",
              "    </tr>\n",
              "    <tr>\n",
              "      <th>1</th>\n",
              "      <td>6304928</td>\n",
              "      <td>5.129899</td>\n",
              "      <td>Apartment</td>\n",
              "      <td>Entire home/apt</td>\n",
              "      <td>{\"Wireless Internet\",\"Air conditioning\",Kitche...</td>\n",
              "      <td>7</td>\n",
              "      <td>1.0</td>\n",
              "      <td>Real Bed</td>\n",
              "      <td>strict</td>\n",
              "      <td>True</td>\n",
              "      <td>NYC</td>\n",
              "      <td>Enjoy travelling during your stay in Manhattan...</td>\n",
              "      <td>2017-08-05</td>\n",
              "      <td>t</td>\n",
              "      <td>f</td>\n",
              "      <td>100%</td>\n",
              "      <td>2017-06-19</td>\n",
              "      <td>t</td>\n",
              "      <td>2017-09-23</td>\n",
              "      <td>40.766115</td>\n",
              "      <td>-73.989040</td>\n",
              "      <td>Superb 3BR Apt Located Near Times Square</td>\n",
              "      <td>Hell's Kitchen</td>\n",
              "      <td>6</td>\n",
              "      <td>93.0</td>\n",
              "      <td>https://a0.muscache.com/im/pictures/348a55fe-4...</td>\n",
              "      <td>10019</td>\n",
              "      <td>3.0</td>\n",
              "      <td>3.0</td>\n",
              "    </tr>\n",
              "    <tr>\n",
              "      <th>2</th>\n",
              "      <td>7919400</td>\n",
              "      <td>4.976734</td>\n",
              "      <td>Apartment</td>\n",
              "      <td>Entire home/apt</td>\n",
              "      <td>{TV,\"Cable TV\",\"Wireless Internet\",\"Air condit...</td>\n",
              "      <td>5</td>\n",
              "      <td>1.0</td>\n",
              "      <td>Real Bed</td>\n",
              "      <td>moderate</td>\n",
              "      <td>True</td>\n",
              "      <td>NYC</td>\n",
              "      <td>The Oasis comes complete with a full backyard ...</td>\n",
              "      <td>2017-04-30</td>\n",
              "      <td>t</td>\n",
              "      <td>t</td>\n",
              "      <td>100%</td>\n",
              "      <td>2016-10-25</td>\n",
              "      <td>t</td>\n",
              "      <td>2017-09-14</td>\n",
              "      <td>40.808110</td>\n",
              "      <td>-73.943756</td>\n",
              "      <td>The Garden Oasis</td>\n",
              "      <td>Harlem</td>\n",
              "      <td>10</td>\n",
              "      <td>92.0</td>\n",
              "      <td>https://a0.muscache.com/im/pictures/6fae5362-9...</td>\n",
              "      <td>10027</td>\n",
              "      <td>1.0</td>\n",
              "      <td>3.0</td>\n",
              "    </tr>\n",
              "    <tr>\n",
              "      <th>3</th>\n",
              "      <td>13418779</td>\n",
              "      <td>6.620073</td>\n",
              "      <td>House</td>\n",
              "      <td>Entire home/apt</td>\n",
              "      <td>{TV,\"Cable TV\",Internet,\"Wireless Internet\",Ki...</td>\n",
              "      <td>4</td>\n",
              "      <td>1.0</td>\n",
              "      <td>Real Bed</td>\n",
              "      <td>flexible</td>\n",
              "      <td>True</td>\n",
              "      <td>SF</td>\n",
              "      <td>This light-filled home-away-from-home is super...</td>\n",
              "      <td>NaN</td>\n",
              "      <td>t</td>\n",
              "      <td>t</td>\n",
              "      <td>NaN</td>\n",
              "      <td>2015-04-19</td>\n",
              "      <td>f</td>\n",
              "      <td>NaN</td>\n",
              "      <td>37.772004</td>\n",
              "      <td>-122.431619</td>\n",
              "      <td>Beautiful Flat in the Heart of SF!</td>\n",
              "      <td>Lower Haight</td>\n",
              "      <td>0</td>\n",
              "      <td>NaN</td>\n",
              "      <td>https://a0.muscache.com/im/pictures/72208dad-9...</td>\n",
              "      <td>94117.0</td>\n",
              "      <td>2.0</td>\n",
              "      <td>2.0</td>\n",
              "    </tr>\n",
              "    <tr>\n",
              "      <th>4</th>\n",
              "      <td>3808709</td>\n",
              "      <td>4.744932</td>\n",
              "      <td>Apartment</td>\n",
              "      <td>Entire home/apt</td>\n",
              "      <td>{TV,Internet,\"Wireless Internet\",\"Air conditio...</td>\n",
              "      <td>2</td>\n",
              "      <td>1.0</td>\n",
              "      <td>Real Bed</td>\n",
              "      <td>moderate</td>\n",
              "      <td>True</td>\n",
              "      <td>DC</td>\n",
              "      <td>Cool, cozy, and comfortable studio located in ...</td>\n",
              "      <td>2015-05-12</td>\n",
              "      <td>t</td>\n",
              "      <td>t</td>\n",
              "      <td>100%</td>\n",
              "      <td>2015-03-01</td>\n",
              "      <td>t</td>\n",
              "      <td>2017-01-22</td>\n",
              "      <td>38.925627</td>\n",
              "      <td>-77.034596</td>\n",
              "      <td>Great studio in midtown DC</td>\n",
              "      <td>Columbia Heights</td>\n",
              "      <td>4</td>\n",
              "      <td>40.0</td>\n",
              "      <td>NaN</td>\n",
              "      <td>20009</td>\n",
              "      <td>0.0</td>\n",
              "      <td>1.0</td>\n",
              "    </tr>\n",
              "  </tbody>\n",
              "</table>\n",
              "</div>"
            ],
            "text/plain": [
              "         id  log_price property_type  ...  zipcode bedrooms  beds\n",
              "0   6901257   5.010635     Apartment  ...    11201      1.0   1.0\n",
              "1   6304928   5.129899     Apartment  ...    10019      3.0   3.0\n",
              "2   7919400   4.976734     Apartment  ...    10027      1.0   3.0\n",
              "3  13418779   6.620073         House  ...  94117.0      2.0   2.0\n",
              "4   3808709   4.744932     Apartment  ...    20009      0.0   1.0\n",
              "\n",
              "[5 rows x 29 columns]"
            ]
          },
          "metadata": {
            "tags": []
          },
          "execution_count": 3
        }
      ]
    },
    {
      "cell_type": "code",
      "metadata": {
        "id": "pdinAWOLrbZ1",
        "colab_type": "code",
        "outputId": "fcb62da0-b713-46e5-d0b6-3ac9693c5a3c",
        "colab": {
          "base_uri": "https://localhost:8080/",
          "height": 588
        }
      },
      "source": [
        "data.info()"
      ],
      "execution_count": 0,
      "outputs": [
        {
          "output_type": "stream",
          "text": [
            "<class 'pandas.core.frame.DataFrame'>\n",
            "RangeIndex: 74111 entries, 0 to 74110\n",
            "Data columns (total 29 columns):\n",
            "id                        74111 non-null int64\n",
            "log_price                 74111 non-null float64\n",
            "property_type             74111 non-null object\n",
            "room_type                 74111 non-null object\n",
            "amenities                 74111 non-null object\n",
            "accommodates              74111 non-null int64\n",
            "bathrooms                 73911 non-null float64\n",
            "bed_type                  74111 non-null object\n",
            "cancellation_policy       74111 non-null object\n",
            "cleaning_fee              74111 non-null bool\n",
            "city                      74111 non-null object\n",
            "description               74111 non-null object\n",
            "first_review              58247 non-null object\n",
            "host_has_profile_pic      73923 non-null object\n",
            "host_identity_verified    73923 non-null object\n",
            "host_response_rate        55812 non-null object\n",
            "host_since                73923 non-null object\n",
            "instant_bookable          74111 non-null object\n",
            "last_review               58284 non-null object\n",
            "latitude                  74111 non-null float64\n",
            "longitude                 74111 non-null float64\n",
            "name                      74111 non-null object\n",
            "neighbourhood             67239 non-null object\n",
            "number_of_reviews         74111 non-null int64\n",
            "review_scores_rating      57389 non-null float64\n",
            "thumbnail_url             65895 non-null object\n",
            "zipcode                   73145 non-null object\n",
            "bedrooms                  74020 non-null float64\n",
            "beds                      73980 non-null float64\n",
            "dtypes: bool(1), float64(7), int64(3), object(18)\n",
            "memory usage: 15.9+ MB\n"
          ],
          "name": "stdout"
        }
      ]
    },
    {
      "cell_type": "code",
      "metadata": {
        "id": "xlDEPlSNreAl",
        "colab_type": "code",
        "outputId": "44b7f734-1cb0-46f5-d293-c61c4a2fa1fd",
        "colab": {
          "base_uri": "https://localhost:8080/",
          "height": 608
        }
      },
      "source": [
        "#Unique values in the columns\n",
        "pd.set_option(\"display.max_colwidth\", 0)\n",
        "data[[\"property_type\", \"room_type\", \"bed_type\", \"cancellation_policy\", \"cleaning_fee\", \"city\", \"host_has_profile_pic\",\n",
        "     \"host_identity_verified\", \"host_response_rate\", \"instant_bookable\", \"neighbourhood\"]].agg([\"unique\"]).transpose()"
      ],
      "execution_count": 0,
      "outputs": [
        {
          "output_type": "execute_result",
          "data": {
            "text/html": [
              "<div>\n",
              "<style scoped>\n",
              "    .dataframe tbody tr th:only-of-type {\n",
              "        vertical-align: middle;\n",
              "    }\n",
              "\n",
              "    .dataframe tbody tr th {\n",
              "        vertical-align: top;\n",
              "    }\n",
              "\n",
              "    .dataframe thead th {\n",
              "        text-align: right;\n",
              "    }\n",
              "</style>\n",
              "<table border=\"1\" class=\"dataframe\">\n",
              "  <thead>\n",
              "    <tr style=\"text-align: right;\">\n",
              "      <th></th>\n",
              "      <th>unique</th>\n",
              "    </tr>\n",
              "  </thead>\n",
              "  <tbody>\n",
              "    <tr>\n",
              "      <th>property_type</th>\n",
              "      <td>[Apartment, House, Condominium, Loft, Townhouse, Hostel, Guest suite, Bed &amp; Breakfast, Bungalow, Guesthouse, Dorm, Other, Camper/RV, Villa, Boutique hotel, Timeshare, In-law, Boat, Serviced apartment, Castle, Cabin, Treehouse, Tipi, Vacation home, Tent, Hut, Casa particular, Chalet, Yurt, Earth House, Parking Space, Train, Cave, Lighthouse, Island]</td>\n",
              "    </tr>\n",
              "    <tr>\n",
              "      <th>room_type</th>\n",
              "      <td>[Entire home/apt, Private room, Shared room]</td>\n",
              "    </tr>\n",
              "    <tr>\n",
              "      <th>bed_type</th>\n",
              "      <td>[Real Bed, Futon, Pull-out Sofa, Couch, Airbed]</td>\n",
              "    </tr>\n",
              "    <tr>\n",
              "      <th>cancellation_policy</th>\n",
              "      <td>[strict, moderate, flexible, super_strict_30, super_strict_60]</td>\n",
              "    </tr>\n",
              "    <tr>\n",
              "      <th>cleaning_fee</th>\n",
              "      <td>[True, False]</td>\n",
              "    </tr>\n",
              "    <tr>\n",
              "      <th>city</th>\n",
              "      <td>[NYC, SF, DC, LA, Chicago, Boston]</td>\n",
              "    </tr>\n",
              "    <tr>\n",
              "      <th>host_has_profile_pic</th>\n",
              "      <td>[t, nan, f]</td>\n",
              "    </tr>\n",
              "    <tr>\n",
              "      <th>host_identity_verified</th>\n",
              "      <td>[t, f, nan]</td>\n",
              "    </tr>\n",
              "    <tr>\n",
              "      <th>host_response_rate</th>\n",
              "      <td>[nan, 100%, 71%, 68%, 67%, 83%, 50%, 90%, 86%, 92%, 82%, 80%, 89%, 93%, 99%, 0%, 88%, 96%, 70%, 94%, 91%, 25%, 95%, 98%, 62%, 29%, 33%, 81%, 63%, 38%, 60%, 79%, 78%, 75%, 65%, 97%, 87%, 40%, 54%, 53%, 58%, 76%, 30%, 64%, 17%, 20%, 77%, 73%, 41%, 59%, 57%, 85%, 56%, 42%, 44%, 35%, 14%, 74%, 27%, 10%, 84%, 6%, 72%, 36%, 55%, 43%, 13%, 39%, 46%, 26%, 61%, 52%, 23%, 22%, 69%, 66%, 15%, 11%, 31%, 21%, 47%]</td>\n",
              "    </tr>\n",
              "    <tr>\n",
              "      <th>instant_bookable</th>\n",
              "      <td>[f, t]</td>\n",
              "    </tr>\n",
              "    <tr>\n",
              "      <th>neighbourhood</th>\n",
              "      <td>[Brooklyn Heights, Hell's Kitchen, Harlem, Lower Haight, Columbia Heights, Noe Valley, nan, Downtown, Richmond District, Alphabet City, Hermosa Beach, Torrance, U Street Corridor, Humboldt Park, Wicker Park, South Boston, Lower East Side, Flatbush, Sherman Oaks, East Flatbush, Valley Glen, Dupont Circle, Jamaica, Forest Hills, Murray Hill, Lefferts Garden, Mid-Wilshire, Venice, West Hollywood, Brownsville, Williamsburg, East Village, South Loop/Printers Row, Westlake, Hollywood Hills, Upper East Side, Bushwick, Bedford-Stuyvesant, Pilsen, Chelsea, Sunnyside, Greenwich Village, Washington Heights, Pasadena, Potrero Hill, Brookland, Los Feliz, Hollywood, Midtown East, Glendale, Park Slope, Arcadia, West Village, Astoria, Portola, Burbank, East Harlem, Silver Lake, Hillbrook, Shaw, Hillcrest, Morningside Heights, Tribeca, Studio City, Western Addition/NOPA, Echo Park, Financial District, Lakeview, Gramercy Park, Mission District, Kingman Park, Sunset Park, Upper West Side, Greenpoint, Highland Park, Cleveland Park, Prospect Heights, Glover Park, Gravesend, Jamaica Plain, Beacon Hill, SoMa, Flushing, Van Nuys, Del Rey, Midtown, Soho, Mission Hill, Roosevelt Island, Marina Del Rey, West Roxbury, Streeterville, Bernal Heights, Soundview, North Beach, Belmont Cragin, Crown Heights, Gowanus, Boerum Hill, Greenwood Heights, ...]</td>\n",
              "    </tr>\n",
              "  </tbody>\n",
              "</table>\n",
              "</div>"
            ],
            "text/plain": [
              "                                                                                                                                                                                                                                                                                                                                                                                                                                                                                                                                                                                                                                                                                                                                                                                                                                                                                                                                                                                                                                                                                                                                                                                                                                                                                                                                                                                                               unique\n",
              "property_type           [Apartment, House, Condominium, Loft, Townhouse, Hostel, Guest suite, Bed & Breakfast, Bungalow, Guesthouse, Dorm, Other, Camper/RV, Villa, Boutique hotel, Timeshare, In-law, Boat, Serviced apartment, Castle, Cabin, Treehouse, Tipi, Vacation home, Tent, Hut, Casa particular, Chalet, Yurt, Earth House, Parking Space, Train, Cave, Lighthouse, Island]                                                                                                                                                                                                                                                                                                                                                                                                                                                                                                                                                                                                                                                                                                                                                                                                                                                                                                                                                                                                                               \n",
              "room_type               [Entire home/apt, Private room, Shared room]                                                                                                                                                                                                                                                                                                                                                                                                                                                                                                                                                                                                                                                                                                                                                                                                                                                                                                                                                                                                                                                                                                                                                                                                                                                                                                                                                 \n",
              "bed_type                [Real Bed, Futon, Pull-out Sofa, Couch, Airbed]                                                                                                                                                                                                                                                                                                                                                                                                                                                                                                                                                                                                                                                                                                                                                                                                                                                                                                                                                                                                                                                                                                                                                                                                                                                                                                                                              \n",
              "cancellation_policy     [strict, moderate, flexible, super_strict_30, super_strict_60]                                                                                                                                                                                                                                                                                                                                                                                                                                                                                                                                                                                                                                                                                                                                                                                                                                                                                                                                                                                                                                                                                                                                                                                                                                                                                                                               \n",
              "cleaning_fee            [True, False]                                                                                                                                                                                                                                                                                                                                                                                                                                                                                                                                                                                                                                                                                                                                                                                                                                                                                                                                                                                                                                                                                                                                                                                                                                                                                                                                                                                \n",
              "city                    [NYC, SF, DC, LA, Chicago, Boston]                                                                                                                                                                                                                                                                                                                                                                                                                                                                                                                                                                                                                                                                                                                                                                                                                                                                                                                                                                                                                                                                                                                                                                                                                                                                                                                                                           \n",
              "host_has_profile_pic    [t, nan, f]                                                                                                                                                                                                                                                                                                                                                                                                                                                                                                                                                                                                                                                                                                                                                                                                                                                                                                                                                                                                                                                                                                                                                                                                                                                                                                                                                                                  \n",
              "host_identity_verified  [t, f, nan]                                                                                                                                                                                                                                                                                                                                                                                                                                                                                                                                                                                                                                                                                                                                                                                                                                                                                                                                                                                                                                                                                                                                                                                                                                                                                                                                                                                  \n",
              "host_response_rate      [nan, 100%, 71%, 68%, 67%, 83%, 50%, 90%, 86%, 92%, 82%, 80%, 89%, 93%, 99%, 0%, 88%, 96%, 70%, 94%, 91%, 25%, 95%, 98%, 62%, 29%, 33%, 81%, 63%, 38%, 60%, 79%, 78%, 75%, 65%, 97%, 87%, 40%, 54%, 53%, 58%, 76%, 30%, 64%, 17%, 20%, 77%, 73%, 41%, 59%, 57%, 85%, 56%, 42%, 44%, 35%, 14%, 74%, 27%, 10%, 84%, 6%, 72%, 36%, 55%, 43%, 13%, 39%, 46%, 26%, 61%, 52%, 23%, 22%, 69%, 66%, 15%, 11%, 31%, 21%, 47%]                                                                                                                                                                                                                                                                                                                                                                                                                                                                                                                                                                                                                                                                                                                                                                                                                                                                                                                                                                         \n",
              "instant_bookable        [f, t]                                                                                                                                                                                                                                                                                                                                                                                                                                                                                                                                                                                                                                                                                                                                                                                                                                                                                                                                                                                                                                                                                                                                                                                                                                                                                                                                                                                       \n",
              "neighbourhood           [Brooklyn Heights, Hell's Kitchen, Harlem, Lower Haight, Columbia Heights, Noe Valley, nan, Downtown, Richmond District, Alphabet City, Hermosa Beach, Torrance, U Street Corridor, Humboldt Park, Wicker Park, South Boston, Lower East Side, Flatbush, Sherman Oaks, East Flatbush, Valley Glen, Dupont Circle, Jamaica, Forest Hills, Murray Hill, Lefferts Garden, Mid-Wilshire, Venice, West Hollywood, Brownsville, Williamsburg, East Village, South Loop/Printers Row, Westlake, Hollywood Hills, Upper East Side, Bushwick, Bedford-Stuyvesant, Pilsen, Chelsea, Sunnyside, Greenwich Village, Washington Heights, Pasadena, Potrero Hill, Brookland, Los Feliz, Hollywood, Midtown East, Glendale, Park Slope, Arcadia, West Village, Astoria, Portola, Burbank, East Harlem, Silver Lake, Hillbrook, Shaw, Hillcrest, Morningside Heights, Tribeca, Studio City, Western Addition/NOPA, Echo Park, Financial District, Lakeview, Gramercy Park, Mission District, Kingman Park, Sunset Park, Upper West Side, Greenpoint, Highland Park, Cleveland Park, Prospect Heights, Glover Park, Gravesend, Jamaica Plain, Beacon Hill, SoMa, Flushing, Van Nuys, Del Rey, Midtown, Soho, Mission Hill, Roosevelt Island, Marina Del Rey, West Roxbury, Streeterville, Bernal Heights, Soundview, North Beach, Belmont Cragin, Crown Heights, Gowanus, Boerum Hill, Greenwood Heights, ...]"
            ]
          },
          "metadata": {
            "tags": []
          },
          "execution_count": 5
        }
      ]
    },
    {
      "cell_type": "code",
      "metadata": {
        "id": "O-ql0xEktGBD",
        "colab_type": "code",
        "outputId": "4194382b-36c3-4b91-aa73-c465b03eedee",
        "colab": {
          "base_uri": "https://localhost:8080/",
          "height": 622
        }
      },
      "source": [
        "data['property_type'].value_counts()"
      ],
      "execution_count": 0,
      "outputs": [
        {
          "output_type": "execute_result",
          "data": {
            "text/plain": [
              "Apartment             49003\n",
              "House                 16511\n",
              "Condominium           2658 \n",
              "Townhouse             1692 \n",
              "Loft                  1244 \n",
              "Other                 607  \n",
              "Guesthouse            498  \n",
              "Bed & Breakfast       462  \n",
              "Bungalow              366  \n",
              "Villa                 179  \n",
              "Dorm                  142  \n",
              "Guest suite           123  \n",
              "Camper/RV             94   \n",
              "Timeshare             77   \n",
              "Cabin                 72   \n",
              "In-law                71   \n",
              "Hostel                70   \n",
              "Boutique hotel        69   \n",
              "Boat                  65   \n",
              "Serviced apartment    21   \n",
              "Tent                  18   \n",
              "Castle                13   \n",
              "Vacation home         11   \n",
              "Yurt                  9    \n",
              "Hut                   8    \n",
              "Treehouse             7    \n",
              "Chalet                6    \n",
              "Earth House           4    \n",
              "Tipi                  3    \n",
              "Train                 2    \n",
              "Cave                  2    \n",
              "Island                1    \n",
              "Parking Space         1    \n",
              "Casa particular       1    \n",
              "Lighthouse            1    \n",
              "Name: property_type, dtype: int64"
            ]
          },
          "metadata": {
            "tags": []
          },
          "execution_count": 6
        }
      ]
    },
    {
      "cell_type": "code",
      "metadata": {
        "id": "3DXrJjUxtbNS",
        "colab_type": "code",
        "colab": {}
      },
      "source": [
        "#Converting 35 propeties to 5\n",
        "dict1 = {\"Aprtment\" : ['Condominium','Timeshare','Loft','Serviced apartment','Guest suite'],\n",
        "        \"House\" : ['Vacation home','Villa','Townhouse','In-law','Casa particular'],\n",
        "        \"Hotel1\" : [\"Dorm\", \"Hostel\", \"Guesthouse\"],\n",
        "        \"Hotel2\" : ['Boutique hotel','Bed & Breakfast'],\n",
        "        \"Other\" : ['Island','Castle','Yurt','Hut','Chalet','Treehouse',\n",
        "                  'Earth House','Tipi','Cave','Train','Parking Space','Lighthouse',\n",
        "                 'Tent','Boat','Cabin','Camper/RV','Bungalow']}"
      ],
      "execution_count": 0,
      "outputs": []
    },
    {
      "cell_type": "markdown",
      "metadata": {
        "id": "Hp7L-YDCUwCn",
        "colab_type": "text"
      },
      "source": [
        ""
      ]
    },
    {
      "cell_type": "code",
      "metadata": {
        "id": "YKP7S13BuuPR",
        "colab_type": "code",
        "outputId": "58b0436a-410d-4298-814d-4f46aa0ab610",
        "colab": {
          "base_uri": "https://localhost:8080/",
          "height": 134
        }
      },
      "source": [
        "dict2 = {i : k for k, v in dict1.items() for i in v}\n",
        "data[\"property_type\"].replace(dict2).value_counts()"
      ],
      "execution_count": 0,
      "outputs": [
        {
          "output_type": "execute_result",
          "data": {
            "text/plain": [
              "Apartment    49003\n",
              "House        18465\n",
              "Aprtment     4123 \n",
              "Other        1279 \n",
              "Hotel1       710  \n",
              "Hotel2       531  \n",
              "Name: property_type, dtype: int64"
            ]
          },
          "metadata": {
            "tags": []
          },
          "execution_count": 8
        }
      ]
    },
    {
      "cell_type": "code",
      "metadata": {
        "id": "hZXRIglKu2BR",
        "colab_type": "code",
        "outputId": "d58b5218-5b1a-4536-9dd9-abfda9af3948",
        "colab": {
          "base_uri": "https://localhost:8080/",
          "height": 34
        }
      },
      "source": [
        "data[\"neighbourhood\"].nunique()"
      ],
      "execution_count": 0,
      "outputs": [
        {
          "output_type": "execute_result",
          "data": {
            "text/plain": [
              "619"
            ]
          },
          "metadata": {
            "tags": []
          },
          "execution_count": 9
        }
      ]
    },
    {
      "cell_type": "code",
      "metadata": {
        "id": "eDDqm4vlvYAg",
        "colab_type": "code",
        "outputId": "6f671e73-b5eb-4ca9-ebea-d37cac913d65",
        "colab": {
          "base_uri": "https://localhost:8080/",
          "height": 254
        }
      },
      "source": [
        "pd.DataFrame(data.groupby([\"city\"])[\"neighbourhood\"].nunique())"
      ],
      "execution_count": 0,
      "outputs": [
        {
          "output_type": "execute_result",
          "data": {
            "text/html": [
              "<div>\n",
              "<style scoped>\n",
              "    .dataframe tbody tr th:only-of-type {\n",
              "        vertical-align: middle;\n",
              "    }\n",
              "\n",
              "    .dataframe tbody tr th {\n",
              "        vertical-align: top;\n",
              "    }\n",
              "\n",
              "    .dataframe thead th {\n",
              "        text-align: right;\n",
              "    }\n",
              "</style>\n",
              "<table border=\"1\" class=\"dataframe\">\n",
              "  <thead>\n",
              "    <tr style=\"text-align: right;\">\n",
              "      <th></th>\n",
              "      <th>neighbourhood</th>\n",
              "    </tr>\n",
              "    <tr>\n",
              "      <th>city</th>\n",
              "      <th></th>\n",
              "    </tr>\n",
              "  </thead>\n",
              "  <tbody>\n",
              "    <tr>\n",
              "      <th>Boston</th>\n",
              "      <td>34</td>\n",
              "    </tr>\n",
              "    <tr>\n",
              "      <th>Chicago</th>\n",
              "      <td>80</td>\n",
              "    </tr>\n",
              "    <tr>\n",
              "      <th>DC</th>\n",
              "      <td>116</td>\n",
              "    </tr>\n",
              "    <tr>\n",
              "      <th>LA</th>\n",
              "      <td>157</td>\n",
              "    </tr>\n",
              "    <tr>\n",
              "      <th>NYC</th>\n",
              "      <td>201</td>\n",
              "    </tr>\n",
              "    <tr>\n",
              "      <th>SF</th>\n",
              "      <td>55</td>\n",
              "    </tr>\n",
              "  </tbody>\n",
              "</table>\n",
              "</div>"
            ],
            "text/plain": [
              "         neighbourhood\n",
              "city                  \n",
              "Boston   34           \n",
              "Chicago  80           \n",
              "DC       116          \n",
              "LA       157          \n",
              "NYC      201          \n",
              "SF       55           "
            ]
          },
          "metadata": {
            "tags": []
          },
          "execution_count": 10
        }
      ]
    },
    {
      "cell_type": "code",
      "metadata": {
        "id": "sSDsXZz9x-Jg",
        "colab_type": "code",
        "colab": {}
      },
      "source": [
        "def str_to_bool(s):\n",
        "    if s=='t':\n",
        "        return True\n",
        "    else: \n",
        "        return False"
      ],
      "execution_count": 0,
      "outputs": []
    },
    {
      "cell_type": "code",
      "metadata": {
        "id": "u0KLPFROx_gH",
        "colab_type": "code",
        "colab": {}
      },
      "source": [
        "def str_to_rate(s):\n",
        "    if pd.isnull(s)==False:\n",
        "        return float(s.replace('%',''))\n",
        "    else: \n",
        "        return s"
      ],
      "execution_count": 0,
      "outputs": []
    },
    {
      "cell_type": "code",
      "metadata": {
        "id": "XoBqaiQeyDC2",
        "colab_type": "code",
        "colab": {}
      },
      "source": [
        "def extract_list_val(s):\n",
        "    for c in ['{','}','\"']:\n",
        "        s=s.replace(c,'')\n",
        "    for c in ['/',':',' ','-','.','&',')','(','\\'']:\n",
        "        s=s.replace(c,'_')\n",
        "    s=s.replace('matress','mattress')\n",
        "    return s.split(',')"
      ],
      "execution_count": 0,
      "outputs": []
    },
    {
      "cell_type": "code",
      "metadata": {
        "id": "0JQ74ZQkvwvw",
        "colab_type": "code",
        "colab": {}
      },
      "source": [
        "def preprocessing_w_lat_long(data):\n",
        "  data = data[data[\"log_price\"] != 0]\n",
        "  data.drop(columns = [\"id\", \"last_review\", \"name\", \"neighbourhood\", \"host_has_profile_pic\", \"host_since\", \"description\",\n",
        "                      \"first_review\", \"thumbnail_url\", \"zipcode\"], inplace = True)\n",
        "  data['property_type']=data['property_type'].replace(dict2)\n",
        "  data['room_type']=data['room_type'].str.replace(' ','_')\n",
        "  data['bed_type']=data['bed_type'].str.replace(' ','_')\n",
        "  data['host_response_rate'] =data['host_response_rate'].apply(str_to_rate)\n",
        "  data['host_identity_verified']=data['host_identity_verified'].apply(str_to_bool)\n",
        "  data['instant_bookable']=data['instant_bookable'].apply(str_to_bool).astype(float)\n",
        "  data['cleaning_fee']=data['cleaning_fee'].apply(str_to_bool).astype(float)\n",
        "  data['amenities']=data['amenities'].apply(extract_list_val).str.join(' ')\n",
        "  \n",
        "  return data"
      ],
      "execution_count": 0,
      "outputs": []
    },
    {
      "cell_type": "code",
      "metadata": {
        "id": "8aGHShW50czT",
        "colab_type": "code",
        "colab": {}
      },
      "source": [
        "def MAE(y_true, y_pred):\n",
        "    return mean_absolute_error(y_true, y_pred)"
      ],
      "execution_count": 0,
      "outputs": []
    },
    {
      "cell_type": "code",
      "metadata": {
        "id": "QTSa0ov40c16",
        "colab_type": "code",
        "colab": {}
      },
      "source": [
        "def MAPE(y_true, y_pred):\n",
        "    return np.mean(np.abs((y_true - y_pred) / y_true)) * 100"
      ],
      "execution_count": 0,
      "outputs": []
    },
    {
      "cell_type": "code",
      "metadata": {
        "id": "wob_-JBd1ax5",
        "colab_type": "code",
        "colab": {}
      },
      "source": [
        "#functions to get columns for featrue tranformers   \n",
        "def get_col_to_fillna_most_frequent(df):\n",
        "    return df[col_to_fillna_most_frequent]\n",
        "\n",
        "def get_col_to_fillna_mean(df):\n",
        "    return df[col_to_fillna_mean]\n",
        "\n",
        "def get_col_to_get_dummies(df):\n",
        "    return df[col_to_getdummies]\n",
        "\n",
        "\n",
        "def get_col_to_get_dummies_NYC(df):\n",
        "    return df[col_to_getdummies_NYC]\n",
        "\n",
        "def get_lat_long(df):\n",
        "    return df[['latitude','longitude']]\n",
        "\n",
        "def get_amenities(df):\n",
        "    return df['amenities']\n",
        "\n",
        "def get_amenities2(df):\n",
        "    return df[['amenities']]\n",
        "\n",
        "def get_col_no_change(df):\n",
        "    return df[col_no_change]\n",
        "\n",
        "def get_sum_amenities(s):\n",
        "    return pd.DataFrame(s.apply(lambda s: len(s.split(' '))))"
      ],
      "execution_count": 0,
      "outputs": []
    },
    {
      "cell_type": "code",
      "metadata": {
        "id": "hxMaijqG1nMR",
        "colab_type": "code",
        "colab": {}
      },
      "source": [
        "def get_results (pipes_dict, X_train, y_train,  X_test, y_test, num_cv, \n",
        "                 n_verbose, scoring_param, df_data_and_results, df_all_results):\n",
        "    for name,model in pipes_dict.items():\n",
        "        mean_cv_score=get_mean_cv_score(name ,model, X_train, y_train, num_cv, n_verbose,scoring_param)\n",
        "        print ('Begin '+name+' model fit')\n",
        "        t1 = time.time()\n",
        "        model.fit(X_train,y_train)\n",
        "        t2 = time.time()\n",
        "        h, m ,s=time_convert(t2-t1)\n",
        "        print('Model fit ended. Elapsed time: {0:.0f} hours, {1:.0f} minutes and {2:.0f} seconds'.format(h,m,s))\n",
        "        y_pred=model.predict(X_test)\n",
        "        df_data_and_results[('Price_pred_'+name)]=np.exp(y_pred)\n",
        "        df_data_and_results[('Price_diff_'+name)]=np.exp(y_test)-np.exp(y_pred)\n",
        "        df_all_results=df_all_results.append ({ 'Model':name,\n",
        "                                                'CV_train_mean_MAE_score': mean_cv_score,\n",
        "                                                'Test_MAE_score':          round(MAE(y_test,y_pred), 4),\n",
        "                                                'Min_diff':                 df_data_and_results[('Price_diff_'+name)].min(),\n",
        "                                                'Max_diff':                 df_data_and_results[('Price_diff_'+name)].max(), \n",
        "                                                'Mean_diff':                df_data_and_results[('Price_diff_'+name)].mean(), \n",
        "                                                'Median_diff':              df_data_and_results[('Price_diff_'+name)].median(),\n",
        "                                                'STD_diff':                 df_data_and_results[('Price_diff_'+name)].std(),\n",
        "                                                '10th percentile':          df_data_and_results[('Price_diff_'+name)].quantile(q=[0.1,0.9], interpolation='linear')[0.1],\n",
        "                                                '90th percentile':          df_data_and_results[('Price_diff_'+name)].quantile(q=[0.1,0.9], interpolation='linear')[0.9]\n",
        "                                              },\n",
        "                                                ignore_index = True)\n",
        "        print('======================================================================================\\n')\n",
        "    return df_data_and_results, df_all_results"
      ],
      "execution_count": 0,
      "outputs": []
    },
    {
      "cell_type": "code",
      "metadata": {
        "id": "a6osrpin1qAp",
        "colab_type": "code",
        "colab": {}
      },
      "source": [
        "def get_diff_hist (pipes_dict,df_data_and_results, df_all_results):\n",
        "    for name,model in pipes_dict.items():\n",
        "        fig, ax = plt.subplots(figsize=(14,5))\n",
        "        sns.set_context(rc={\"lines.linewidth\": 3.5})#\n",
        "        sns.distplot(df_data_and_results[('Price_diff_'+name)],ax=ax,color='red')\n",
        "        plt.title(name+' Price_diff histogram')\n",
        "        ax.set_xlim(df_all_results['Min_diff'].min(),df_all_results['Max_diff'].max())\n",
        "\n",
        "def get_prediction_cluster_graph(pipes_dict, y_test, df_data_and_results):\n",
        "    for name,model in pipes_dict.items():\n",
        "        plt.figure()\n",
        "        plt.plot(y_test,np.log(df_data_and_results[('Price_pred_'+name)]),'.', label = 'Result Data')\n",
        "        plt.plot([2,9],[2,9], label = 'Ideal')\n",
        "        plt.axes().set_aspect('equal')\n",
        "        plt.legend()\n",
        "        plt.title(name+' (y_true,y_pred) vs. ideal')"
      ],
      "execution_count": 0,
      "outputs": []
    },
    {
      "cell_type": "code",
      "metadata": {
        "id": "Uazh0q2D1a0Z",
        "colab_type": "code",
        "colab": {}
      },
      "source": [
        "#functions for model fit, predict and results\n",
        "def time_convert (t):\n",
        "    h,m1=divmod(t, 3600)\n",
        "    m,s=divmod(m1, 60) \n",
        "    return h, m ,s\n",
        "\n",
        "def get_mean_cv_score(name, model, X_train, y_train, num_cv, n_verbose,scoring_param):\n",
        "    print ('Model: '+name)\n",
        "    print ('Begin CV fit')\n",
        "    t0 = time.time()\n",
        "    c_val=cross_val_score(model, X_train, y_train, cv=num_cv, verbose=n_verbose, scoring=scoring_param)\n",
        "    t1 = time.time()\n",
        "    h, m ,s=time_convert(t1-t0)\n",
        "    print('CV ended. Elapsed time: {0:.0f} hours, {1:.0f} minutes and {2:.0f} seconds'.format(h,m,s))\n",
        "    return -(c_val.mean().round(4))\n"
      ],
      "execution_count": 0,
      "outputs": []
    },
    {
      "cell_type": "code",
      "metadata": {
        "id": "DLwV8dOcxN4e",
        "colab_type": "code",
        "colab": {}
      },
      "source": [
        "data_clean_all = data.copy()"
      ],
      "execution_count": 0,
      "outputs": []
    },
    {
      "cell_type": "code",
      "metadata": {
        "id": "0_q-Ilirxh6-",
        "colab_type": "code",
        "colab": {}
      },
      "source": [
        "data_clean_all = preprocessing_w_lat_long(data_clean_all)"
      ],
      "execution_count": 0,
      "outputs": []
    },
    {
      "cell_type": "code",
      "metadata": {
        "id": "WvDw3WKTxlaO",
        "colab_type": "code",
        "outputId": "af4d6282-eb1a-4d95-b90b-beaf73f28836",
        "colab": {
          "base_uri": "https://localhost:8080/",
          "height": 602
        }
      },
      "source": [
        "data_clean_all.head()"
      ],
      "execution_count": 0,
      "outputs": [
        {
          "output_type": "execute_result",
          "data": {
            "text/html": [
              "<div>\n",
              "<style scoped>\n",
              "    .dataframe tbody tr th:only-of-type {\n",
              "        vertical-align: middle;\n",
              "    }\n",
              "\n",
              "    .dataframe tbody tr th {\n",
              "        vertical-align: top;\n",
              "    }\n",
              "\n",
              "    .dataframe thead th {\n",
              "        text-align: right;\n",
              "    }\n",
              "</style>\n",
              "<table border=\"1\" class=\"dataframe\">\n",
              "  <thead>\n",
              "    <tr style=\"text-align: right;\">\n",
              "      <th></th>\n",
              "      <th>log_price</th>\n",
              "      <th>property_type</th>\n",
              "      <th>room_type</th>\n",
              "      <th>amenities</th>\n",
              "      <th>accommodates</th>\n",
              "      <th>bathrooms</th>\n",
              "      <th>bed_type</th>\n",
              "      <th>cancellation_policy</th>\n",
              "      <th>cleaning_fee</th>\n",
              "      <th>city</th>\n",
              "      <th>host_identity_verified</th>\n",
              "      <th>host_response_rate</th>\n",
              "      <th>instant_bookable</th>\n",
              "      <th>latitude</th>\n",
              "      <th>longitude</th>\n",
              "      <th>number_of_reviews</th>\n",
              "      <th>review_scores_rating</th>\n",
              "      <th>bedrooms</th>\n",
              "      <th>beds</th>\n",
              "    </tr>\n",
              "  </thead>\n",
              "  <tbody>\n",
              "    <tr>\n",
              "      <th>0</th>\n",
              "      <td>5.010635</td>\n",
              "      <td>Apartment</td>\n",
              "      <td>Entire_home/apt</td>\n",
              "      <td>Wireless_Internet Air_conditioning Kitchen Heating Family_kid_friendly Essentials Hair_dryer Iron translation_missing__en_hosting_amenity_50</td>\n",
              "      <td>3</td>\n",
              "      <td>1.0</td>\n",
              "      <td>Real_Bed</td>\n",
              "      <td>strict</td>\n",
              "      <td>0.0</td>\n",
              "      <td>NYC</td>\n",
              "      <td>True</td>\n",
              "      <td>NaN</td>\n",
              "      <td>0.0</td>\n",
              "      <td>40.696524</td>\n",
              "      <td>-73.991617</td>\n",
              "      <td>2</td>\n",
              "      <td>100.0</td>\n",
              "      <td>1.0</td>\n",
              "      <td>1.0</td>\n",
              "    </tr>\n",
              "    <tr>\n",
              "      <th>1</th>\n",
              "      <td>5.129899</td>\n",
              "      <td>Apartment</td>\n",
              "      <td>Entire_home/apt</td>\n",
              "      <td>Wireless_Internet Air_conditioning Kitchen Heating Family_kid_friendly Washer Dryer Smoke_detector Fire_extinguisher Essentials Shampoo Hangers Hair_dryer Iron translation_missing__en_hosting_amenity_50</td>\n",
              "      <td>7</td>\n",
              "      <td>1.0</td>\n",
              "      <td>Real_Bed</td>\n",
              "      <td>strict</td>\n",
              "      <td>0.0</td>\n",
              "      <td>NYC</td>\n",
              "      <td>False</td>\n",
              "      <td>100.0</td>\n",
              "      <td>1.0</td>\n",
              "      <td>40.766115</td>\n",
              "      <td>-73.989040</td>\n",
              "      <td>6</td>\n",
              "      <td>93.0</td>\n",
              "      <td>3.0</td>\n",
              "      <td>3.0</td>\n",
              "    </tr>\n",
              "    <tr>\n",
              "      <th>2</th>\n",
              "      <td>4.976734</td>\n",
              "      <td>Apartment</td>\n",
              "      <td>Entire_home/apt</td>\n",
              "      <td>TV Cable_TV Wireless_Internet Air_conditioning Kitchen Breakfast Buzzer_wireless_intercom Heating Family_kid_friendly Smoke_detector Carbon_monoxide_detector Fire_extinguisher Essentials Shampoo Hangers Hair_dryer Iron Laptop_friendly_workspace translation_missing__en_hosting_amenity_50</td>\n",
              "      <td>5</td>\n",
              "      <td>1.0</td>\n",
              "      <td>Real_Bed</td>\n",
              "      <td>moderate</td>\n",
              "      <td>0.0</td>\n",
              "      <td>NYC</td>\n",
              "      <td>True</td>\n",
              "      <td>100.0</td>\n",
              "      <td>1.0</td>\n",
              "      <td>40.808110</td>\n",
              "      <td>-73.943756</td>\n",
              "      <td>10</td>\n",
              "      <td>92.0</td>\n",
              "      <td>1.0</td>\n",
              "      <td>3.0</td>\n",
              "    </tr>\n",
              "    <tr>\n",
              "      <th>3</th>\n",
              "      <td>6.620073</td>\n",
              "      <td>House</td>\n",
              "      <td>Entire_home/apt</td>\n",
              "      <td>TV Cable_TV Internet Wireless_Internet Kitchen Indoor_fireplace Buzzer_wireless_intercom Heating Washer Dryer Smoke_detector Carbon_monoxide_detector First_aid_kit Fire_extinguisher Essentials</td>\n",
              "      <td>4</td>\n",
              "      <td>1.0</td>\n",
              "      <td>Real_Bed</td>\n",
              "      <td>flexible</td>\n",
              "      <td>0.0</td>\n",
              "      <td>SF</td>\n",
              "      <td>True</td>\n",
              "      <td>NaN</td>\n",
              "      <td>0.0</td>\n",
              "      <td>37.772004</td>\n",
              "      <td>-122.431619</td>\n",
              "      <td>0</td>\n",
              "      <td>NaN</td>\n",
              "      <td>2.0</td>\n",
              "      <td>2.0</td>\n",
              "    </tr>\n",
              "    <tr>\n",
              "      <th>4</th>\n",
              "      <td>4.744932</td>\n",
              "      <td>Apartment</td>\n",
              "      <td>Entire_home/apt</td>\n",
              "      <td>TV Internet Wireless_Internet Air_conditioning Kitchen Elevator_in_building Heating Smoke_detector Carbon_monoxide_detector Fire_extinguisher Essentials Shampoo</td>\n",
              "      <td>2</td>\n",
              "      <td>1.0</td>\n",
              "      <td>Real_Bed</td>\n",
              "      <td>moderate</td>\n",
              "      <td>0.0</td>\n",
              "      <td>DC</td>\n",
              "      <td>True</td>\n",
              "      <td>100.0</td>\n",
              "      <td>1.0</td>\n",
              "      <td>38.925627</td>\n",
              "      <td>-77.034596</td>\n",
              "      <td>4</td>\n",
              "      <td>40.0</td>\n",
              "      <td>0.0</td>\n",
              "      <td>1.0</td>\n",
              "    </tr>\n",
              "  </tbody>\n",
              "</table>\n",
              "</div>"
            ],
            "text/plain": [
              "   log_price property_type  ... bedrooms beds\n",
              "0  5.010635   Apartment     ...  1.0      1.0\n",
              "1  5.129899   Apartment     ...  3.0      3.0\n",
              "2  4.976734   Apartment     ...  1.0      3.0\n",
              "3  6.620073   House         ...  2.0      2.0\n",
              "4  4.744932   Apartment     ...  0.0      1.0\n",
              "\n",
              "[5 rows x 19 columns]"
            ]
          },
          "metadata": {
            "tags": []
          },
          "execution_count": 23
        }
      ]
    },
    {
      "cell_type": "code",
      "metadata": {
        "id": "WZypJ5OiyOLt",
        "colab_type": "code",
        "outputId": "13cae4e6-9f52-44a2-cea0-39496b4f0c53",
        "colab": {
          "base_uri": "https://localhost:8080/",
          "height": 420
        }
      },
      "source": [
        "data_clean_all.info()"
      ],
      "execution_count": 0,
      "outputs": [
        {
          "output_type": "stream",
          "text": [
            "<class 'pandas.core.frame.DataFrame'>\n",
            "Int64Index: 74110 entries, 0 to 74110\n",
            "Data columns (total 19 columns):\n",
            "log_price                 74110 non-null float64\n",
            "property_type             74110 non-null object\n",
            "room_type                 74110 non-null object\n",
            "amenities                 74110 non-null object\n",
            "accommodates              74110 non-null int64\n",
            "bathrooms                 73910 non-null float64\n",
            "bed_type                  74110 non-null object\n",
            "cancellation_policy       74110 non-null object\n",
            "cleaning_fee              74110 non-null float64\n",
            "city                      74110 non-null object\n",
            "host_identity_verified    74110 non-null bool\n",
            "host_response_rate        55811 non-null float64\n",
            "instant_bookable          74110 non-null float64\n",
            "latitude                  74110 non-null float64\n",
            "longitude                 74110 non-null float64\n",
            "number_of_reviews         74110 non-null int64\n",
            "review_scores_rating      57388 non-null float64\n",
            "bedrooms                  74019 non-null float64\n",
            "beds                      73979 non-null float64\n",
            "dtypes: bool(1), float64(10), int64(2), object(6)\n",
            "memory usage: 10.8+ MB\n"
          ],
          "name": "stdout"
        }
      ]
    },
    {
      "cell_type": "code",
      "metadata": {
        "id": "tPtqXXPnygBN",
        "colab_type": "code",
        "outputId": "198d394c-ade1-4987-f409-461596fb00a2",
        "colab": {
          "base_uri": "https://localhost:8080/",
          "height": 34
        }
      },
      "source": [
        "data_clean_all.shape"
      ],
      "execution_count": 0,
      "outputs": [
        {
          "output_type": "execute_result",
          "data": {
            "text/plain": [
              "(74110, 19)"
            ]
          },
          "metadata": {
            "tags": []
          },
          "execution_count": 25
        }
      ]
    },
    {
      "cell_type": "code",
      "metadata": {
        "id": "mj0911a3ylpt",
        "colab_type": "code",
        "colab": {}
      },
      "source": [
        "#columns to fill Nan with most frequent\n",
        "col_to_fillna_most_frequent=['beds','bedrooms','bathrooms','host_identity_verified']\n",
        "\n",
        "#columns to fill Nan with mean\n",
        "col_to_fillna_mean=['host_response_rate','review_scores_rating']\n",
        "\n",
        "#columns for get_dummies (one hot encoding)\n",
        "col_to_getdummies=['property_type','room_type','bed_type','cancellation_policy','city']\n",
        "\n",
        "#columns that won't be changed\n",
        "col_no_change=['accommodates','number_of_reviews']"
      ],
      "execution_count": 0,
      "outputs": []
    },
    {
      "cell_type": "code",
      "metadata": {
        "id": "8ycuA1i5zUgM",
        "colab_type": "code",
        "outputId": "beaea422-7f70-4163-daea-f17ffa339b77",
        "colab": {
          "base_uri": "https://localhost:8080/",
          "height": 602
        }
      },
      "source": [
        "data_clean_all.head()"
      ],
      "execution_count": 0,
      "outputs": [
        {
          "output_type": "execute_result",
          "data": {
            "text/html": [
              "<div>\n",
              "<style scoped>\n",
              "    .dataframe tbody tr th:only-of-type {\n",
              "        vertical-align: middle;\n",
              "    }\n",
              "\n",
              "    .dataframe tbody tr th {\n",
              "        vertical-align: top;\n",
              "    }\n",
              "\n",
              "    .dataframe thead th {\n",
              "        text-align: right;\n",
              "    }\n",
              "</style>\n",
              "<table border=\"1\" class=\"dataframe\">\n",
              "  <thead>\n",
              "    <tr style=\"text-align: right;\">\n",
              "      <th></th>\n",
              "      <th>log_price</th>\n",
              "      <th>property_type</th>\n",
              "      <th>room_type</th>\n",
              "      <th>amenities</th>\n",
              "      <th>accommodates</th>\n",
              "      <th>bathrooms</th>\n",
              "      <th>bed_type</th>\n",
              "      <th>cancellation_policy</th>\n",
              "      <th>cleaning_fee</th>\n",
              "      <th>city</th>\n",
              "      <th>host_identity_verified</th>\n",
              "      <th>host_response_rate</th>\n",
              "      <th>instant_bookable</th>\n",
              "      <th>latitude</th>\n",
              "      <th>longitude</th>\n",
              "      <th>number_of_reviews</th>\n",
              "      <th>review_scores_rating</th>\n",
              "      <th>bedrooms</th>\n",
              "      <th>beds</th>\n",
              "    </tr>\n",
              "  </thead>\n",
              "  <tbody>\n",
              "    <tr>\n",
              "      <th>0</th>\n",
              "      <td>5.010635</td>\n",
              "      <td>Apartment</td>\n",
              "      <td>Entire_home/apt</td>\n",
              "      <td>Wireless_Internet Air_conditioning Kitchen Heating Family_kid_friendly Essentials Hair_dryer Iron translation_missing__en_hosting_amenity_50</td>\n",
              "      <td>3</td>\n",
              "      <td>1.0</td>\n",
              "      <td>Real_Bed</td>\n",
              "      <td>strict</td>\n",
              "      <td>0.0</td>\n",
              "      <td>NYC</td>\n",
              "      <td>True</td>\n",
              "      <td>NaN</td>\n",
              "      <td>0.0</td>\n",
              "      <td>40.696524</td>\n",
              "      <td>-73.991617</td>\n",
              "      <td>2</td>\n",
              "      <td>100.0</td>\n",
              "      <td>1.0</td>\n",
              "      <td>1.0</td>\n",
              "    </tr>\n",
              "    <tr>\n",
              "      <th>1</th>\n",
              "      <td>5.129899</td>\n",
              "      <td>Apartment</td>\n",
              "      <td>Entire_home/apt</td>\n",
              "      <td>Wireless_Internet Air_conditioning Kitchen Heating Family_kid_friendly Washer Dryer Smoke_detector Fire_extinguisher Essentials Shampoo Hangers Hair_dryer Iron translation_missing__en_hosting_amenity_50</td>\n",
              "      <td>7</td>\n",
              "      <td>1.0</td>\n",
              "      <td>Real_Bed</td>\n",
              "      <td>strict</td>\n",
              "      <td>0.0</td>\n",
              "      <td>NYC</td>\n",
              "      <td>False</td>\n",
              "      <td>100.0</td>\n",
              "      <td>1.0</td>\n",
              "      <td>40.766115</td>\n",
              "      <td>-73.989040</td>\n",
              "      <td>6</td>\n",
              "      <td>93.0</td>\n",
              "      <td>3.0</td>\n",
              "      <td>3.0</td>\n",
              "    </tr>\n",
              "    <tr>\n",
              "      <th>2</th>\n",
              "      <td>4.976734</td>\n",
              "      <td>Apartment</td>\n",
              "      <td>Entire_home/apt</td>\n",
              "      <td>TV Cable_TV Wireless_Internet Air_conditioning Kitchen Breakfast Buzzer_wireless_intercom Heating Family_kid_friendly Smoke_detector Carbon_monoxide_detector Fire_extinguisher Essentials Shampoo Hangers Hair_dryer Iron Laptop_friendly_workspace translation_missing__en_hosting_amenity_50</td>\n",
              "      <td>5</td>\n",
              "      <td>1.0</td>\n",
              "      <td>Real_Bed</td>\n",
              "      <td>moderate</td>\n",
              "      <td>0.0</td>\n",
              "      <td>NYC</td>\n",
              "      <td>True</td>\n",
              "      <td>100.0</td>\n",
              "      <td>1.0</td>\n",
              "      <td>40.808110</td>\n",
              "      <td>-73.943756</td>\n",
              "      <td>10</td>\n",
              "      <td>92.0</td>\n",
              "      <td>1.0</td>\n",
              "      <td>3.0</td>\n",
              "    </tr>\n",
              "    <tr>\n",
              "      <th>3</th>\n",
              "      <td>6.620073</td>\n",
              "      <td>House</td>\n",
              "      <td>Entire_home/apt</td>\n",
              "      <td>TV Cable_TV Internet Wireless_Internet Kitchen Indoor_fireplace Buzzer_wireless_intercom Heating Washer Dryer Smoke_detector Carbon_monoxide_detector First_aid_kit Fire_extinguisher Essentials</td>\n",
              "      <td>4</td>\n",
              "      <td>1.0</td>\n",
              "      <td>Real_Bed</td>\n",
              "      <td>flexible</td>\n",
              "      <td>0.0</td>\n",
              "      <td>SF</td>\n",
              "      <td>True</td>\n",
              "      <td>NaN</td>\n",
              "      <td>0.0</td>\n",
              "      <td>37.772004</td>\n",
              "      <td>-122.431619</td>\n",
              "      <td>0</td>\n",
              "      <td>NaN</td>\n",
              "      <td>2.0</td>\n",
              "      <td>2.0</td>\n",
              "    </tr>\n",
              "    <tr>\n",
              "      <th>4</th>\n",
              "      <td>4.744932</td>\n",
              "      <td>Apartment</td>\n",
              "      <td>Entire_home/apt</td>\n",
              "      <td>TV Internet Wireless_Internet Air_conditioning Kitchen Elevator_in_building Heating Smoke_detector Carbon_monoxide_detector Fire_extinguisher Essentials Shampoo</td>\n",
              "      <td>2</td>\n",
              "      <td>1.0</td>\n",
              "      <td>Real_Bed</td>\n",
              "      <td>moderate</td>\n",
              "      <td>0.0</td>\n",
              "      <td>DC</td>\n",
              "      <td>True</td>\n",
              "      <td>100.0</td>\n",
              "      <td>1.0</td>\n",
              "      <td>38.925627</td>\n",
              "      <td>-77.034596</td>\n",
              "      <td>4</td>\n",
              "      <td>40.0</td>\n",
              "      <td>0.0</td>\n",
              "      <td>1.0</td>\n",
              "    </tr>\n",
              "  </tbody>\n",
              "</table>\n",
              "</div>"
            ],
            "text/plain": [
              "   log_price property_type  ... bedrooms beds\n",
              "0  5.010635   Apartment     ...  1.0      1.0\n",
              "1  5.129899   Apartment     ...  3.0      3.0\n",
              "2  4.976734   Apartment     ...  1.0      3.0\n",
              "3  6.620073   House         ...  2.0      2.0\n",
              "4  4.744932   Apartment     ...  0.0      1.0\n",
              "\n",
              "[5 rows x 19 columns]"
            ]
          },
          "metadata": {
            "tags": []
          },
          "execution_count": 27
        }
      ]
    },
    {
      "cell_type": "code",
      "metadata": {
        "id": "ms7Km5mHzYKs",
        "colab_type": "code",
        "outputId": "0ad2021f-5db3-44f8-c3d6-fae7d6244c75",
        "colab": {
          "base_uri": "https://localhost:8080/",
          "height": 557
        }
      },
      "source": [
        "#Visualizing\n",
        "city_price_df = data_clean_all.copy()[['city','log_price']]\n",
        "city_price_df['Price'] = np.exp(city_price_df['log_price'])\n",
        "city_price_df[['city','Price']].boxplot(by = 'city', figsize=(10, 8), vert=False)"
      ],
      "execution_count": 0,
      "outputs": [
        {
          "output_type": "execute_result",
          "data": {
            "text/plain": [
              "<matplotlib.axes._subplots.AxesSubplot at 0x7f5df9a77438>"
            ]
          },
          "metadata": {
            "tags": []
          },
          "execution_count": 28
        },
        {
          "output_type": "display_data",
          "data": {
            "image/png": "[encoded data removed]",
            "text/plain": [
              "<Figure size 720x576 with 1 Axes>"
            ]
          },
          "metadata": {
            "tags": []
          }
        }
      ]
    },
    {
      "cell_type": "code",
      "metadata": {
        "id": "rmWDLhhkzyp8",
        "colab_type": "code",
        "colab": {}
      },
      "source": [
        "#Linear Regression\n",
        "#Scoring Functions\n",
        "MAE_scorer = make_scorer(MAE, greater_is_better=False)\n",
        "MAPE_scorer = make_scorer(MAPE, greater_is_better=False)"
      ],
      "execution_count": 0,
      "outputs": []
    },
    {
      "cell_type": "code",
      "metadata": {
        "id": "WzPcIkjK0RLq",
        "colab_type": "code",
        "colab": {}
      },
      "source": [
        "KNN_neighbors=200\n",
        "RF_n_estimators=50\n",
        "RF_min_samples_split=50\n",
        "TSVD_n_components=10\n",
        "num_cv=5\n",
        "n_verbose = 3\n",
        "scoring_param=MAE_scorer"
      ],
      "execution_count": 0,
      "outputs": []
    },
    {
      "cell_type": "code",
      "metadata": {
        "id": "KtIc7BZS0n96",
        "colab_type": "code",
        "colab": {}
      },
      "source": [
        "PCA_features=PCA()\n",
        "TruncatedSVD_features=TruncatedSVD(n_components=TSVD_n_components)\n",
        "lin_regressor= LinearRegression()\n",
        "RF_regressor = RandomForestRegressor(n_estimators=RF_n_estimators, min_samples_split=RF_min_samples_split)\n",
        "KNN_Reg = KNNR(n_neighbors=KNN_neighbors)"
      ],
      "execution_count": 0,
      "outputs": []
    },
    {
      "cell_type": "code",
      "metadata": {
        "id": "8tmeRm-Q0qQp",
        "colab_type": "code",
        "colab": {}
      },
      "source": [
        "#Buliding a transformer\n",
        "class MyTransformer(TransformerMixin, BaseEstimator):\n",
        "    '''A template for a custom transformer.'''\n",
        "\n",
        "    def __init__(self, model):\n",
        "        self.model=model\n",
        "        pass\n",
        "\n",
        "    def fit(self, X, y=None):\n",
        "        self.model.fit(X, np.exp(y))\n",
        "        return self\n",
        "\n",
        "    def transform(self, X):\n",
        "        # transform X via code or additional methods\n",
        "        return pd.DataFrame(self.model.predict(X))"
      ],
      "execution_count": 0,
      "outputs": []
    },
    {
      "cell_type": "code",
      "metadata": {
        "id": "D-d-kJCo1-Ct",
        "colab_type": "code",
        "colab": {}
      },
      "source": [
        "Transformer_fillna_most_frequent = Pipeline([('Select_col_to_fillna_most_frequent', FunctionTransformer(func=get_col_to_fillna_most_frequent, validate=False)),\n",
        "                                            ('Fill_Null',                           SimpleImputer(missing_values=np.nan, strategy='most_frequent')),\n",
        "                                            ('To_float_transformer',                FunctionTransformer(func=lambda x: x.astype(float) ,validate=False))\n",
        "                                            ])"
      ],
      "execution_count": 0,
      "outputs": []
    },
    {
      "cell_type": "code",
      "metadata": {
        "id": "SMu9OoKs2AG3",
        "colab_type": "code",
        "colab": {}
      },
      "source": [
        "Transformer_fillna_mean = Pipeline([('Select_col_to_fillna_mean',    FunctionTransformer(func=get_col_to_fillna_mean, validate=False)),\n",
        "                                    ('Fill_Null',                    SimpleImputer(missing_values=np.nan, strategy='mean'))\n",
        "                                  ])"
      ],
      "execution_count": 0,
      "outputs": []
    },
    {
      "cell_type": "code",
      "metadata": {
        "id": "MlRVRXOe2Brn",
        "colab_type": "code",
        "colab": {}
      },
      "source": [
        "Transformer_OneHotEncoder= Pipeline([('Select_col_to_get_dummies',      FunctionTransformer(func=get_col_to_get_dummies, validate=False)),\n",
        "                                     ('OneHotEncoder_transform',        OneHotEncoder(handle_unknown='ignore'))\n",
        "                                  ])"
      ],
      "execution_count": 0,
      "outputs": []
    },
    {
      "cell_type": "code",
      "metadata": {
        "id": "DuY1mgOU2EU3",
        "colab_type": "code",
        "colab": {}
      },
      "source": [
        "Transformer_amenities = Pipeline([('Select_col_to_get_amenities',  FunctionTransformer(func=get_amenities, validate=False)),\n",
        "                                  ('CountVectorizer_transform',    CountVectorizer(min_df=0.02)),\n",
        "                                  ('Feature_extractor_TSVD',     TruncatedSVD_features)\n",
        "                                 ])\n"
      ],
      "execution_count": 0,
      "outputs": []
    },
    {
      "cell_type": "code",
      "metadata": {
        "id": "pG4nTNaB2IjX",
        "colab_type": "code",
        "colab": {}
      },
      "source": [
        "Transformer_sum_amenities=Pipeline([('Select_col_to_get_amenities',  FunctionTransformer(func=get_amenities, validate=False)),\n",
        "                                    ('Get_sum_amenities',            FunctionTransformer(func=get_sum_amenities, validate=False)),\n",
        "                                   ])"
      ],
      "execution_count": 0,
      "outputs": []
    },
    {
      "cell_type": "code",
      "metadata": {
        "id": "7301Kvn72KyI",
        "colab_type": "code",
        "colab": {}
      },
      "source": [
        "Transformer_get_columns = Pipeline ([('Select_col_no_change', FunctionTransformer(func=get_col_no_change, validate=False))])"
      ],
      "execution_count": 0,
      "outputs": []
    },
    {
      "cell_type": "code",
      "metadata": {
        "id": "eLjjMXKx2Myn",
        "colab_type": "code",
        "colab": {}
      },
      "source": [
        "Transformer_lat_long = Pipeline ([('Select_col_lat_long_price', FunctionTransformer(func=get_lat_long, validate=False)),                                \n",
        "                                  ('MyTransformer', MyTransformer(KNN_Reg))    \n",
        "                                ])"
      ],
      "execution_count": 0,
      "outputs": []
    },
    {
      "cell_type": "code",
      "metadata": {
        "id": "WyNv9VP72REH",
        "colab_type": "code",
        "colab": {}
      },
      "source": [
        "FeatureUnionTransformer = FeatureUnion([('FTfillna_frequent',   Transformer_fillna_most_frequent),\n",
        "                                        ('FTfillna_mean',       Transformer_fillna_mean),\n",
        "                                        ('FTget_OneHotEncoder', Transformer_OneHotEncoder),                  \n",
        "                                        ('FTamenities',         Transformer_amenities),\n",
        "                                        ('FT_sum_amenities',    Transformer_sum_amenities),\n",
        "                                        ('FT_lat_long',         Transformer_lat_long),\n",
        "                                        ('FT_get_columns',      Transformer_get_columns)\n",
        "                                       ])"
      ],
      "execution_count": 0,
      "outputs": []
    },
    {
      "cell_type": "code",
      "metadata": {
        "id": "qofbfANe2UGn",
        "colab_type": "code",
        "colab": {}
      },
      "source": [
        "#Transformer with polynomial features\n",
        "Full_Transformer_poly = Pipeline([('Feature_Engineering', FeatureUnionTransformer),\n",
        "                                  ('Polynomial_Transformer', PolynomialFeatures(degree=2, interaction_only=True)),\n",
        "                                  ('Min_Max_Transformer', MaxAbsScaler())\n",
        "                                 ])\n",
        "\n",
        "#Transformer without polynomial features\n",
        "Full_Transformer = Pipeline([('Feature_Engineering', FeatureUnionTransformer),\n",
        "                             ('Min_Max_Transformer', MaxAbsScaler())\n",
        "                            ])"
      ],
      "execution_count": 0,
      "outputs": []
    },
    {
      "cell_type": "code",
      "metadata": {
        "id": "QvPlJ95z2ay3",
        "colab_type": "code",
        "colab": {}
      },
      "source": [
        "#Regression model piplines\n",
        "lin_reg_pipe= Pipeline([('Feature_transformer', Full_Transformer),\n",
        "                        ('Linear_regressor', lin_regressor)\n",
        "                       ])\n",
        "\n",
        "lin_reg_poly_pipe= Pipeline([('Feature_transformer_poly', Full_Transformer_poly),\n",
        "                             ('Linear_regressor', lin_regressor)\n",
        "                            ])\n",
        "\n",
        "RF_pipe= Pipeline([('Feature_transformer', Full_Transformer),\n",
        "                    ('RFE_regressor', RF_regressor)\n",
        "                  ])\n",
        "\n",
        "RF_poly_pipe= Pipeline([('Feature_transformer_poly', Full_Transformer_poly),\n",
        "                        ('RFE_regressor', RF_regressor)\n",
        "                       ])"
      ],
      "execution_count": 0,
      "outputs": []
    },
    {
      "cell_type": "code",
      "metadata": {
        "id": "MPF9XZ0p2kFH",
        "colab_type": "code",
        "colab": {}
      },
      "source": [
        "X_train_all, X_test_all, y_train_all, y_test_all = split(data_clean_all.drop(axis=1, columns=['log_price']), \n",
        "                                                         data_clean_all['log_price'], \n",
        "                                                         test_size =0.3, random_state=123)\n"
      ],
      "execution_count": 0,
      "outputs": []
    },
    {
      "cell_type": "code",
      "metadata": {
        "id": "4hO1fEfH2l9X",
        "colab_type": "code",
        "colab": {}
      },
      "source": [
        "pipes_dict_all = {'LG':lin_reg_pipe, 'LG_poly':lin_reg_poly_pipe,'RF':RF_pipe, 'RF_poly':RF_poly_pipe}\n",
        "\n",
        "#reset DF to collect results\n",
        "df_all_results_all=pd.DataFrame(columns=['Model','CV_train_mean_MAE_score','Test_MAE_score',\n",
        "                                          'Min_diff','Max_diff','Mean_diff','Median_diff',\n",
        "                                          'STD_diff','10th percentile','90th percentile'])\n",
        "\n",
        "df_data_and_results_all=X_test_all.copy()\n",
        "df_data_and_results_all['Price_true']=np.exp(y_test_all)"
      ],
      "execution_count": 0,
      "outputs": []
    },
    {
      "cell_type": "code",
      "metadata": {
        "id": "oryP2Av_2z1m",
        "colab_type": "code",
        "outputId": "df6e5a71-2c6e-4ff3-b842-79f82ef3e33c",
        "colab": {
          "base_uri": "https://localhost:8080/",
          "height": 1000
        }
      },
      "source": [
        "#Run Models:\n",
        "df_data_and_results_all, df_all_results_all =get_results(pipes_dict_all, X_train_all, y_train_all, X_test_all, y_test_all, \n",
        "                                                         num_cv, n_verbose, scoring_param, \n",
        "                                                         df_data_and_results_all, df_all_results_all)"
      ],
      "execution_count": 0,
      "outputs": [
        {
          "output_type": "stream",
          "text": [
            "Model: LG\n",
            "Begin CV fit\n",
            "[CV]  ................................................................\n"
          ],
          "name": "stdout"
        },
        {
          "output_type": "stream",
          "text": [
            "[Parallel(n_jobs=1)]: Using backend SequentialBackend with 1 concurrent workers.\n"
          ],
          "name": "stderr"
        },
        {
          "output_type": "stream",
          "text": [
            "[CV] ................................... , score=-0.307, total=   4.5s\n",
            "[CV]  ................................................................\n"
          ],
          "name": "stdout"
        },
        {
          "output_type": "stream",
          "text": [
            "[Parallel(n_jobs=1)]: Done   1 out of   1 | elapsed:    4.6s remaining:    0.0s\n"
          ],
          "name": "stderr"
        },
        {
          "output_type": "stream",
          "text": [
            "[CV] ................................... , score=-0.303, total=   4.3s\n",
            "[CV]  ................................................................\n"
          ],
          "name": "stdout"
        },
        {
          "output_type": "stream",
          "text": [
            "[Parallel(n_jobs=1)]: Done   2 out of   2 | elapsed:    8.9s remaining:    0.0s\n"
          ],
          "name": "stderr"
        },
        {
          "output_type": "stream",
          "text": [
            "[CV] ................................... , score=-0.315, total=   4.3s\n",
            "[CV]  ................................................................\n",
            "[CV] ................................... , score=-0.306, total=   4.3s\n",
            "[CV]  ................................................................\n",
            "[CV] ................................... , score=-0.304, total=   4.2s\n",
            "CV ended. Elapsed time: 0 hours, 0 minutes and 22 seconds\n",
            "Begin LG model fit\n"
          ],
          "name": "stdout"
        },
        {
          "output_type": "stream",
          "text": [
            "[Parallel(n_jobs=1)]: Done   5 out of   5 | elapsed:   21.6s finished\n"
          ],
          "name": "stderr"
        },
        {
          "output_type": "stream",
          "text": [
            "Model fit ended. Elapsed time: 0 hours, 0 minutes and 5 seconds\n",
            "======================================================================================\n",
            "\n",
            "Model: LG_poly\n",
            "Begin CV fit\n",
            "[CV]  ................................................................\n"
          ],
          "name": "stdout"
        },
        {
          "output_type": "stream",
          "text": [
            "[Parallel(n_jobs=1)]: Using backend SequentialBackend with 1 concurrent workers.\n"
          ],
          "name": "stderr"
        },
        {
          "output_type": "stream",
          "text": [
            "[CV] ................................... , score=-0.292, total= 2.2min\n",
            "[CV]  ................................................................\n"
          ],
          "name": "stdout"
        },
        {
          "output_type": "stream",
          "text": [
            "[Parallel(n_jobs=1)]: Done   1 out of   1 | elapsed:  2.2min remaining:    0.0s\n"
          ],
          "name": "stderr"
        },
        {
          "output_type": "stream",
          "text": [
            "[CV] ................................... , score=-0.293, total= 2.2min\n",
            "[CV]  ................................................................\n"
          ],
          "name": "stdout"
        },
        {
          "output_type": "stream",
          "text": [
            "[Parallel(n_jobs=1)]: Done   2 out of   2 | elapsed:  4.5min remaining:    0.0s\n"
          ],
          "name": "stderr"
        },
        {
          "output_type": "stream",
          "text": [
            "[CV] ................................... , score=-0.301, total= 2.2min\n",
            "[CV]  ................................................................\n",
            "[CV] ................................... , score=-0.296, total= 2.2min\n",
            "[CV]  ................................................................\n",
            "[CV] ................................... , score=-0.293, total= 2.2min\n",
            "CV ended. Elapsed time: 0 hours, 11 minutes and 10 seconds\n",
            "Begin LG_poly model fit\n"
          ],
          "name": "stdout"
        },
        {
          "output_type": "stream",
          "text": [
            "[Parallel(n_jobs=1)]: Done   5 out of   5 | elapsed: 11.2min finished\n"
          ],
          "name": "stderr"
        },
        {
          "output_type": "stream",
          "text": [
            "Model fit ended. Elapsed time: 0 hours, 2 minutes and 46 seconds\n",
            "======================================================================================\n",
            "\n",
            "Model: RF\n",
            "Begin CV fit\n",
            "[CV]  ................................................................\n"
          ],
          "name": "stdout"
        },
        {
          "output_type": "stream",
          "text": [
            "[Parallel(n_jobs=1)]: Using backend SequentialBackend with 1 concurrent workers.\n"
          ],
          "name": "stderr"
        },
        {
          "output_type": "stream",
          "text": [
            "[CV] ................................... , score=-0.294, total= 2.6min\n",
            "[CV]  ................................................................\n"
          ],
          "name": "stdout"
        },
        {
          "output_type": "stream",
          "text": [
            "[Parallel(n_jobs=1)]: Done   1 out of   1 | elapsed:  2.6min remaining:    0.0s\n"
          ],
          "name": "stderr"
        },
        {
          "output_type": "stream",
          "text": [
            "[CV] ................................... , score=-0.291, total= 2.5min\n",
            "[CV]  ................................................................\n"
          ],
          "name": "stdout"
        },
        {
          "output_type": "stream",
          "text": [
            "[Parallel(n_jobs=1)]: Done   2 out of   2 | elapsed:  5.1min remaining:    0.0s\n"
          ],
          "name": "stderr"
        },
        {
          "output_type": "stream",
          "text": [
            "[CV] ................................... , score=-0.297, total= 2.6min\n",
            "[CV]  ................................................................\n",
            "[CV] ................................... , score=-0.292, total= 2.6min\n",
            "[CV]  ................................................................\n",
            "[CV] ................................... , score=-0.288, total= 2.6min\n",
            "CV ended. Elapsed time: 0 hours, 12 minutes and 54 seconds\n",
            "Begin RF model fit\n"
          ],
          "name": "stdout"
        },
        {
          "output_type": "stream",
          "text": [
            "[Parallel(n_jobs=1)]: Done   5 out of   5 | elapsed: 12.9min finished\n"
          ],
          "name": "stderr"
        },
        {
          "output_type": "stream",
          "text": [
            "Model fit ended. Elapsed time: 0 hours, 3 minutes and 27 seconds\n",
            "======================================================================================\n",
            "\n",
            "Model: RF_poly\n",
            "Begin CV fit\n",
            "[CV]  ................................................................\n"
          ],
          "name": "stdout"
        },
        {
          "output_type": "stream",
          "text": [
            "[Parallel(n_jobs=1)]: Using backend SequentialBackend with 1 concurrent workers.\n"
          ],
          "name": "stderr"
        },
        {
          "output_type": "stream",
          "text": [
            "[CV] ................................... , score=-0.290, total=49.1min\n",
            "[CV]  ................................................................\n"
          ],
          "name": "stdout"
        },
        {
          "output_type": "stream",
          "text": [
            "[Parallel(n_jobs=1)]: Done   1 out of   1 | elapsed: 49.1min remaining:    0.0s\n"
          ],
          "name": "stderr"
        },
        {
          "output_type": "stream",
          "text": [
            "[CV] ................................... , score=-0.288, total=49.5min\n",
            "[CV]  ................................................................\n"
          ],
          "name": "stdout"
        },
        {
          "output_type": "stream",
          "text": [
            "[Parallel(n_jobs=1)]: Done   2 out of   2 | elapsed: 98.6min remaining:    0.0s\n"
          ],
          "name": "stderr"
        },
        {
          "output_type": "stream",
          "text": [
            "[CV] ................................... , score=-0.295, total=49.5min\n",
            "[CV]  ................................................................\n",
            "[CV] ................................... , score=-0.287, total=49.1min\n",
            "[CV]  ................................................................\n",
            "[CV] ................................... , score=-0.284, total=49.0min\n",
            "CV ended. Elapsed time: 4 hours, 6 minutes and 13 seconds\n",
            "Begin RF_poly model fit\n"
          ],
          "name": "stdout"
        },
        {
          "output_type": "stream",
          "text": [
            "[Parallel(n_jobs=1)]: Done   5 out of   5 | elapsed: 246.2min finished\n"
          ],
          "name": "stderr"
        }
      ]
    },
    {
      "cell_type": "code",
      "metadata": {
        "id": "dLmN17XD3NYX",
        "colab_type": "code",
        "colab": {}
      },
      "source": [
        "df_all_results_all"
      ],
      "execution_count": 0,
      "outputs": []
    },
    {
      "cell_type": "code",
      "metadata": {
        "id": "fnB3al1Y5LCQ",
        "colab_type": "code",
        "colab": {}
      },
      "source": [
        "get_prediction_cluster_graph(pipes_dict_all, y_test_all, df_data_and_results_all)"
      ],
      "execution_count": 0,
      "outputs": []
    },
    {
      "cell_type": "code",
      "metadata": {
        "id": "s4UWJT325LEo",
        "colab_type": "code",
        "colab": {}
      },
      "source": [
        "get_diff_hist(pipes_dict_all, df_data_and_results_all, df_all_results_all)"
      ],
      "execution_count": 0,
      "outputs": []
    },
    {
      "cell_type": "code",
      "metadata": {
        "id": "bJ5j_2Kl5LKG",
        "colab_type": "code",
        "colab": {}
      },
      "source": [
        ""
      ],
      "execution_count": 0,
      "outputs": []
    }
  ]
}